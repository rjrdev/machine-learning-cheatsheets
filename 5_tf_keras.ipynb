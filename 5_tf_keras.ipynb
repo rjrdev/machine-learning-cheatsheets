{
 "cells": [
  {
   "cell_type": "markdown",
   "metadata": {},
   "source": [
    "# `tensorflow` and `keras` Cheatsheet\n",
    "---\n",
    "## TODO"
   ]
  }
 ],
 "metadata": {
  "language_info": {
   "name": "python"
  }
 },
 "nbformat": 4,
 "nbformat_minor": 2
}
