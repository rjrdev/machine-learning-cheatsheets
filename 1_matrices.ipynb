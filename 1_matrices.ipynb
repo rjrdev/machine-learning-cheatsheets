{
 "cells": [
  {
   "cell_type": "markdown",
   "metadata": {},
   "source": [
    "# Matrices\n",
    "Cheatsheet regarding matrix (including vector) manipulation, arithmetic, and more.\n",
    "\n",
    "## `numpy` Basics\n",
    "\n",
    "### What is `numpy`?\n",
    "\n",
    "A free and open-source Python library that provides support for multi-dimensional array. It efficiently performs operations on these multi-dimensional array a.k.a matrices and/or tensors. Operation include, but not limited to, linear algebra and statistical operations."
   ]
  },
  {
   "cell_type": "markdown",
   "metadata": {},
   "source": [
    "### Importing `numpy`"
   ]
  },
  {
   "cell_type": "code",
   "execution_count": 236,
   "metadata": {},
   "outputs": [],
   "source": [
    "import numpy as np"
   ]
  },
  {
   "cell_type": "markdown",
   "metadata": {},
   "source": [
    "### Creating arrays and matrices"
   ]
  },
  {
   "cell_type": "code",
   "execution_count": 237,
   "metadata": {},
   "outputs": [
    {
     "data": {
      "text/plain": [
       "array([1, 2, 3])"
      ]
     },
     "execution_count": 237,
     "metadata": {},
     "output_type": "execute_result"
    }
   ],
   "source": [
    "# Creating numpy arrays\n",
    "a = np.array([1,2,3])\n",
    "a"
   ]
  },
  {
   "cell_type": "code",
   "execution_count": 238,
   "metadata": {},
   "outputs": [
    {
     "data": {
      "text/plain": [
       "array([[1, 2, 3],\n",
       "       [4, 5, 6]])"
      ]
     },
     "execution_count": 238,
     "metadata": {},
     "output_type": "execute_result"
    }
   ],
   "source": [
    "# Creating numpy matrices/tensors\n",
    "b = np.array([[1,2,3], [4,5,6]])\n",
    "b"
   ]
  },
  {
   "cell_type": "code",
   "execution_count": 239,
   "metadata": {},
   "outputs": [
    {
     "data": {
      "text/plain": [
       "array([[0., 0., 0., 0.],\n",
       "       [0., 0., 0., 0.],\n",
       "       [0., 0., 0., 0.]])"
      ]
     },
     "execution_count": 239,
     "metadata": {},
     "output_type": "execute_result"
    }
   ],
   "source": [
    "# Zero matrix\n",
    "np.zeros([3,4])"
   ]
  },
  {
   "cell_type": "code",
   "execution_count": 240,
   "metadata": {},
   "outputs": [
    {
     "data": {
      "text/plain": [
       "array([[1., 1.],\n",
       "       [1., 1.],\n",
       "       [1., 1.],\n",
       "       [1., 1.]])"
      ]
     },
     "execution_count": 240,
     "metadata": {},
     "output_type": "execute_result"
    }
   ],
   "source": [
    "# Ones matrix\n",
    "np.ones([4,2])"
   ]
  },
  {
   "cell_type": "code",
   "execution_count": 241,
   "metadata": {},
   "outputs": [
    {
     "data": {
      "text/plain": [
       "array([[777, 777],\n",
       "       [777, 777],\n",
       "       [777, 777],\n",
       "       [777, 777]])"
      ]
     },
     "execution_count": 241,
     "metadata": {},
     "output_type": "execute_result"
    }
   ],
   "source": [
    "# Constant matrix (any value desired)\n",
    "np.full([4,2], 777)"
   ]
  },
  {
   "cell_type": "code",
   "execution_count": 242,
   "metadata": {},
   "outputs": [
    {
     "data": {
      "text/plain": [
       "array([[0.11222609, 0.88996179],\n",
       "       [0.74156348, 0.31754343]])"
      ]
     },
     "execution_count": 242,
     "metadata": {},
     "output_type": "execute_result"
    }
   ],
   "source": [
    "# Random matrix(\n",
    "np.random.random((2,2))"
   ]
  },
  {
   "cell_type": "code",
   "execution_count": 243,
   "metadata": {},
   "outputs": [
    {
     "data": {
      "text/plain": [
       "array([[1., 0., 0.],\n",
       "       [0., 1., 0.],\n",
       "       [0., 0., 1.]])"
      ]
     },
     "execution_count": 243,
     "metadata": {},
     "output_type": "execute_result"
    }
   ],
   "source": [
    "# Identity matrix\n",
    "np.eye(3,3)"
   ]
  },
  {
   "cell_type": "code",
   "execution_count": 244,
   "metadata": {},
   "outputs": [
    {
     "data": {
      "text/plain": [
       "array([[1., 1., 1., 1.],\n",
       "       [1., 1., 1., 1.]])"
      ]
     },
     "execution_count": 244,
     "metadata": {},
     "output_type": "execute_result"
    }
   ],
   "source": [
    "# Create uninitialized matrix of specific shape. Elements\n",
    "# will contain random values that were already present in the \n",
    "# memory location for that matrix. Marginally faster way of creating\n",
    "# matrices\n",
    "np.empty([2,4])"
   ]
  },
  {
   "cell_type": "code",
   "execution_count": 245,
   "metadata": {},
   "outputs": [
    {
     "data": {
      "text/plain": [
       "array([ 1.        , 17.33333333, 33.66666667, 50.        ])"
      ]
     },
     "execution_count": 245,
     "metadata": {},
     "output_type": "execute_result"
    }
   ],
   "source": [
    "# create array with evenly spaced values (e.g., step values)\n",
    "# by specifying the NUMBER OF DESIRED ELEMENTS\n",
    "np.linspace(1, 50, 4)"
   ]
  },
  {
   "cell_type": "code",
   "execution_count": 246,
   "metadata": {},
   "outputs": [
    {
     "data": {
      "text/plain": [
       "array([ 1,  5,  9, 13, 17, 21, 25, 29, 33, 37, 41, 45, 49])"
      ]
     },
     "execution_count": 246,
     "metadata": {},
     "output_type": "execute_result"
    }
   ],
   "source": [
    "# create array with evenly spaced values (e.g., step values)\n",
    "# by specifying the SIZE OF THE SPACE\n",
    "np.arange(1,50, 4)"
   ]
  },
  {
   "cell_type": "markdown",
   "metadata": {},
   "source": [
    "### Matrix Information"
   ]
  },
  {
   "cell_type": "code",
   "execution_count": 247,
   "metadata": {},
   "outputs": [
    {
     "data": {
      "text/plain": [
       "(2, 3)"
      ]
     },
     "execution_count": 247,
     "metadata": {},
     "output_type": "execute_result"
    }
   ],
   "source": [
    "a = np.array([[1,2,3], [4,5,6]])\n",
    "a.shape"
   ]
  },
  {
   "cell_type": "code",
   "execution_count": 248,
   "metadata": {},
   "outputs": [
    {
     "data": {
      "text/plain": [
       "(2, 3, 4)"
      ]
     },
     "execution_count": 248,
     "metadata": {},
     "output_type": "execute_result"
    }
   ],
   "source": [
    "b = np.array([\n",
    "    [[1,1,1,1], [2,2,2,2], [3,3,3,3]],\n",
    "    [[4,4,4,5], [5,5,5,5], [6,6,6,6]],\n",
    "])\n",
    "b.shape"
   ]
  },
  {
   "cell_type": "code",
   "execution_count": 249,
   "metadata": {},
   "outputs": [
    {
     "name": "stdout",
     "output_type": "stream",
     "text": [
      "2\n",
      "3\n",
      "4\n",
      "3\n",
      "24\n"
     ]
    }
   ],
   "source": [
    "# retrieve length of array. NOTE: length of first dimension is returned\n",
    "print(len(b)) # num sheets/dimensions\n",
    "print(len(b[0])) # num rows\n",
    "print(len(b[0][0]))\n",
    "print(b.ndim) # number of dimensions\n",
    "print(b.size) # num of elements"
   ]
  },
  {
   "cell_type": "code",
   "execution_count": 250,
   "metadata": {},
   "outputs": [
    {
     "data": {
      "text/plain": [
       "(2, 3, 4)"
      ]
     },
     "execution_count": 250,
     "metadata": {},
     "output_type": "execute_result"
    }
   ],
   "source": [
    "b.shape"
   ]
  },
  {
   "cell_type": "markdown",
   "metadata": {},
   "source": [
    "### Matrix Arithmetic"
   ]
  },
  {
   "cell_type": "markdown",
   "metadata": {},
   "source": [
    "#### Element-wise Addition, Substraction, Multiplication, and Division"
   ]
  },
  {
   "cell_type": "code",
   "execution_count": 251,
   "metadata": {},
   "outputs": [
    {
     "name": "stdout",
     "output_type": "stream",
     "text": [
      "[[1. 1.]\n",
      " [1. 1.]]\n",
      "[[1 1]\n",
      " [2 3]]\n"
     ]
    },
    {
     "data": {
      "text/plain": [
       "array([[2., 2.],\n",
       "       [3., 4.]])"
      ]
     },
     "execution_count": 251,
     "metadata": {},
     "output_type": "execute_result"
    }
   ],
   "source": [
    "# addition and subtraction\n",
    "a = np.ones((2,2))\n",
    "print(a)\n",
    "b = np.array([\n",
    "    [1, 1],\n",
    "    [2, 3],\n",
    "])\n",
    "print(b)\n",
    "\n",
    "a + b # or np.add(b, a)"
   ]
  },
  {
   "cell_type": "code",
   "execution_count": 252,
   "metadata": {},
   "outputs": [
    {
     "data": {
      "text/plain": [
       "array([[ 0.,  0.],\n",
       "       [-1., -2.]])"
      ]
     },
     "execution_count": 252,
     "metadata": {},
     "output_type": "execute_result"
    }
   ],
   "source": [
    "a - b # or np.subtract(a, b)"
   ]
  },
  {
   "cell_type": "code",
   "execution_count": 253,
   "metadata": {},
   "outputs": [
    {
     "name": "stdout",
     "output_type": "stream",
     "text": [
      "[[1. 0. 0.]\n",
      " [0. 1. 0.]\n",
      " [0. 0. 1.]]\n",
      "[[3 3 3]\n",
      " [4 4 4]\n",
      " [5 5 5]]\n"
     ]
    },
    {
     "data": {
      "text/plain": [
       "array([[3., 0., 0.],\n",
       "       [0., 4., 0.],\n",
       "       [0., 0., 5.]])"
      ]
     },
     "execution_count": 253,
     "metadata": {},
     "output_type": "execute_result"
    }
   ],
   "source": [
    "# Element-wise Multiplication and Division (operands must have the same shape)\n",
    "c = np.eye(3,3)\n",
    "print(c)\n",
    "d = np.array([\n",
    "    [3,3,3], \n",
    "    [4,4,4],\n",
    "    [5,5,5]\n",
    "])\n",
    "print(d)\n",
    "c * d # same as np.multiply(c,d)"
   ]
  },
  {
   "cell_type": "code",
   "execution_count": 254,
   "metadata": {},
   "outputs": [
    {
     "data": {
      "text/plain": [
       "array([[1.5, 1.5, 1.5],\n",
       "       [2. , 2. , 2. ],\n",
       "       [2.5, 2.5, 2.5]])"
      ]
     },
     "execution_count": 254,
     "metadata": {},
     "output_type": "execute_result"
    }
   ],
   "source": [
    "e = np.full((3,3), 2)\n",
    "d / e # same as np.divide(d,e)"
   ]
  },
  {
   "cell_type": "markdown",
   "metadata": {},
   "source": [
    "#### Element-wise Comparison"
   ]
  },
  {
   "cell_type": "code",
   "execution_count": 255,
   "metadata": {},
   "outputs": [
    {
     "name": "stdout",
     "output_type": "stream",
     "text": [
      "[[False False]\n",
      " [ True  True]]\n",
      "[[False  True]\n",
      " [False False]]\n"
     ]
    }
   ],
   "source": [
    "a = np.full((2,2), 10);\n",
    "b = np.array([\n",
    "    [-10,10],\n",
    "    [11, 500]\n",
    "])\n",
    "print(a < b)    # Element wise comparison\n",
    "print(a == b)   # Element wise equality comparison"
   ]
  },
  {
   "cell_type": "markdown",
   "metadata": {},
   "source": [
    "#### Dot Product and Matrix Multiplication"
   ]
  },
  {
   "cell_type": "code",
   "execution_count": 256,
   "metadata": {},
   "outputs": [
    {
     "data": {
      "text/plain": [
       "14"
      ]
     },
     "execution_count": 256,
     "metadata": {},
     "output_type": "execute_result"
    }
   ],
   "source": [
    "# Dot Product\n",
    "a = np.array([1,0,3])\n",
    "b = np.array([2,2,4])\n",
    "a.dot(b)"
   ]
  },
  {
   "cell_type": "code",
   "execution_count": 257,
   "metadata": {},
   "outputs": [
    {
     "name": "stdout",
     "output_type": "stream",
     "text": [
      "[[1 2 3]]\n",
      "[[2 0]\n",
      " [3 1]\n",
      " [0 2]]\n"
     ]
    },
    {
     "data": {
      "text/plain": [
       "array([[8, 8]])"
      ]
     },
     "execution_count": 257,
     "metadata": {},
     "output_type": "execute_result"
    }
   ],
   "source": [
    "# Matrix Multiplication (NOTE: a.matmul(b) only works if a has shape\n",
    "# (m,n) and b has shape (n,p), result will have shape (m,p))\n",
    "a = np.array([\n",
    "    [1,2,3]\n",
    "])\n",
    "print(a)\n",
    "b = np.array([\n",
    "    [2, 0],\n",
    "    [3, 1],\n",
    "    [0, 2]\n",
    "])\n",
    "print(b)\n",
    "np.matmul(a,b)"
   ]
  },
  {
   "cell_type": "markdown",
   "metadata": {},
   "source": [
    "#### Aggregate Functions\n",
    "\n",
    "See: https://numpy.org/doc/stable/reference/routines.math.html \n",
    "\n",
    "Some common aggregate functions include:\n",
    "* a.sum()\n",
    "* a.min()\n",
    "* a.max()\n",
    "* a.mean()\n",
    "* ... and more"
   ]
  },
  {
   "cell_type": "code",
   "execution_count": 258,
   "metadata": {},
   "outputs": [
    {
     "name": "stdout",
     "output_type": "stream",
     "text": [
      "[[2 0]\n",
      " [3 1]\n",
      " [0 2]]\n",
      "8\n",
      "[3 2]\n",
      "[2 3 2]\n"
     ]
    }
   ],
   "source": [
    "print(b)\n",
    "print(b.sum())\n",
    "# Think of axis as the dimension of which you wish to elimate\n",
    "print(b.max(axis=0)) # remove/collapse row dimension\n",
    "print(b.max(axis=1)) # remove/collapse column dimension"
   ]
  },
  {
   "cell_type": "markdown",
   "metadata": {},
   "source": [
    "## Subsettings Slicing, and Indexing\n",
    "\n",
    "See: https://numpy.org/doc/stable/user/basics.indexing.html "
   ]
  },
  {
   "cell_type": "code",
   "execution_count": null,
   "metadata": {},
   "outputs": [],
   "source": [
    "# TODO"
   ]
  }
 ],
 "metadata": {
  "kernelspec": {
   "display_name": "tensorflow-env",
   "language": "python",
   "name": "python3"
  },
  "language_info": {
   "codemirror_mode": {
    "name": "ipython",
    "version": 3
   },
   "file_extension": ".py",
   "mimetype": "text/x-python",
   "name": "python",
   "nbconvert_exporter": "python",
   "pygments_lexer": "ipython3",
   "version": "3.6.13"
  }
 },
 "nbformat": 4,
 "nbformat_minor": 2
}
