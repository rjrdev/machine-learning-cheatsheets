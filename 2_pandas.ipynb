{
 "cells": [
  {
   "cell_type": "markdown",
   "metadata": {},
   "source": [
    "# Pandas Cheatsheet\n",
    "---\n",
    "## What is `Pandas`?\n",
    "Library built on top of `numpy` that provides a framework for data manipulation and analysis. It is named after **Panel Data** which is a term for multidimensional structured data. \n",
    "\n",
    "This library contains functions and utilities needed to handle large, imbalanced, and inconsisten datasets. It comes in handy in the Data Acquisition, Exploration and Preprocessing stages of Machine Learning.\n",
    "\n",
    "It makes heavy used of `Series` and `DataFrame` data structure to store multidimensional data.\n",
    "* `Series` \n",
    "    * built on top of `numpy` arrays\n",
    "    * 1-dimensional \n",
    "    * each data-point has an associated `label` \n",
    "    * collection of these labels is called an `index`\n",
    "* `DataFrame`\n",
    "    * 2-dimensional\n",
    "    * similiar to a spreadsheet in excel\n",
    "    * essentially a Python dictionary that maps column names (keys) to their associated `Series` (values)\n",
    "* `Panel`\n",
    "    * 3-dimensional\n",
    "* `Panel4D`\n",
    "    * 4-dimensional"
   ]
  },
  {
   "cell_type": "markdown",
   "metadata": {},
   "source": [
    "## Importing `pandas`"
   ]
  },
  {
   "cell_type": "code",
   "execution_count": 227,
   "metadata": {},
   "outputs": [],
   "source": [
    "import pandas as pd\n",
    "\n",
    "# also import numpy for examples\n",
    "import numpy as np"
   ]
  },
  {
   "cell_type": "markdown",
   "metadata": {},
   "source": [
    "## Series and DataFrame Basics"
   ]
  },
  {
   "cell_type": "markdown",
   "metadata": {},
   "source": [
    "### Series\n",
    "* Series can hold multiple data types \n",
    "* They can be indexed by numeric and non-numeric labels\n",
    "* They can be created using Python lists, numpy arrays, and dictionaries."
   ]
  },
  {
   "cell_type": "code",
   "execution_count": 228,
   "metadata": {},
   "outputs": [
    {
     "name": "stdout",
     "output_type": "stream",
     "text": [
      "0      1\n",
      "1     10\n",
      "2    100\n",
      "dtype: int64\n",
      "first       2\n",
      "second     20\n",
      "third     200\n",
      "dtype: int64\n",
      "first       3\n",
      "second     30\n",
      "third     300\n",
      "dtype: int64\n"
     ]
    }
   ],
   "source": [
    "index_labels = ['first', 'second', 'third']\n",
    "list = [1, 10, 100]\n",
    "np_array = np.array([2,20,200])\n",
    "dict = {'first': 3, 'second': 30, 'third': 300}\n",
    "\n",
    "# create series with python list and default 0-based indices\n",
    "print(pd.Series(data=list)) \n",
    "\n",
    "# create series with numpy array and custom indices\n",
    "print(pd.Series(data=np_array, index=index_labels)) \n",
    "\n",
    "# create series with python dictionary with custom indices (dictionary keys becomes the indices)\n",
    "print(pd.Series(data=dict))\n"
   ]
  },
  {
   "cell_type": "markdown",
   "metadata": {},
   "source": [
    "Arithmetic can also be performed on Series instances"
   ]
  },
  {
   "cell_type": "code",
   "execution_count": 229,
   "metadata": {},
   "outputs": [
    {
     "name": "stdout",
     "output_type": "stream",
     "text": [
      "0    50\n",
      "1    70\n",
      "2    90\n",
      "dtype: int64\n",
      "1     NaN\n",
      "2    40.0\n",
      "3    60.0\n",
      "4     NaN\n",
      "dtype: float64\n",
      "1    10.0\n",
      "2    40.0\n",
      "3    60.0\n",
      "4    40.0\n",
      "dtype: float64\n"
     ]
    }
   ],
   "source": [
    "s1 = pd.Series(data=[10, 20, 30])\n",
    "s2 = pd.Series(data=[40, 50, 60])\n",
    "print(s1 + s2)     # Peform element-wise addition based on matching indices\n",
    "\n",
    "# NOTE: Element-wise summations occur for elements with matching indices across the 2 series.\n",
    "# If one operand is missing (e.g., one series doesn't have an associated value for the index), NaN\n",
    "# is used. Specify a fill_value to prevent this\n",
    "s3 = pd.Series(data=[10, 20, 30], index=[1,2,3])\n",
    "s4 = pd.Series(data=[20, 30, 40], index=[2,3,4])\n",
    "print(s3 + s4)\n",
    "print(s3.add(s4, fill_value=0))"
   ]
  },
  {
   "cell_type": "markdown",
   "metadata": {},
   "source": [
    "### Data Frames"
   ]
  },
  {
   "cell_type": "markdown",
   "metadata": {},
   "source": [
    "## Retrieving/Reading Data\n",
    "\n",
    "See https://pandas.pydata.org/docs/reference/io.html for additional data I/O functions such as reading/writing to and from excel, json, and more."
   ]
  },
  {
   "cell_type": "code",
   "execution_count": 230,
   "metadata": {},
   "outputs": [
    {
     "data": {
      "text/html": [
       "<div>\n",
       "<style scoped>\n",
       "    .dataframe tbody tr th:only-of-type {\n",
       "        vertical-align: middle;\n",
       "    }\n",
       "\n",
       "    .dataframe tbody tr th {\n",
       "        vertical-align: top;\n",
       "    }\n",
       "\n",
       "    .dataframe thead th {\n",
       "        text-align: right;\n",
       "    }\n",
       "</style>\n",
       "<table border=\"1\" class=\"dataframe\">\n",
       "  <thead>\n",
       "    <tr style=\"text-align: right;\">\n",
       "      <th></th>\n",
       "      <th>name</th>\n",
       "      <th>age</th>\n",
       "      <th>salary_usd</th>\n",
       "      <th>profession</th>\n",
       "      <th>employer</th>\n",
       "    </tr>\n",
       "  </thead>\n",
       "  <tbody>\n",
       "    <tr>\n",
       "      <th>0</th>\n",
       "      <td>spongebob</td>\n",
       "      <td>19</td>\n",
       "      <td>12000.0</td>\n",
       "      <td>chef</td>\n",
       "      <td>the krusty krab</td>\n",
       "    </tr>\n",
       "    <tr>\n",
       "      <th>1</th>\n",
       "      <td>plankton</td>\n",
       "      <td>45</td>\n",
       "      <td>2.0</td>\n",
       "      <td>entrepreneur</td>\n",
       "      <td>the chum bucket</td>\n",
       "    </tr>\n",
       "    <tr>\n",
       "      <th>2</th>\n",
       "      <td>sandy</td>\n",
       "      <td>24</td>\n",
       "      <td>65000.0</td>\n",
       "      <td>retired</td>\n",
       "      <td>none</td>\n",
       "    </tr>\n",
       "    <tr>\n",
       "      <th>3</th>\n",
       "      <td>mr. krabs</td>\n",
       "      <td>41</td>\n",
       "      <td>100000.0</td>\n",
       "      <td>entrepreneur</td>\n",
       "      <td>the krusty krab</td>\n",
       "    </tr>\n",
       "    <tr>\n",
       "      <th>4</th>\n",
       "      <td>larry</td>\n",
       "      <td>25</td>\n",
       "      <td>37000.0</td>\n",
       "      <td>bodybuilder</td>\n",
       "      <td>none</td>\n",
       "    </tr>\n",
       "    <tr>\n",
       "      <th>5</th>\n",
       "      <td>patrick star</td>\n",
       "      <td>31</td>\n",
       "      <td>0.0</td>\n",
       "      <td>unemployed</td>\n",
       "      <td>none</td>\n",
       "    </tr>\n",
       "  </tbody>\n",
       "</table>\n",
       "</div>"
      ],
      "text/plain": [
       "           name  age  salary_usd    profession          employer\n",
       "0     spongebob   19     12000.0          chef   the krusty krab\n",
       "1      plankton   45         2.0  entrepreneur   the chum bucket\n",
       "2         sandy   24     65000.0       retired              none\n",
       "3     mr. krabs   41    100000.0  entrepreneur   the krusty krab\n",
       "4         larry   25     37000.0   bodybuilder              none\n",
       "5  patrick star   31         0.0    unemployed              none"
      ]
     },
     "execution_count": 230,
     "metadata": {},
     "output_type": "execute_result"
    }
   ],
   "source": [
    "# Read CSV\n",
    "data = pd.read_csv('./example.csv')\n",
    "data"
   ]
  },
  {
   "cell_type": "markdown",
   "metadata": {},
   "source": [
    "## Data"
   ]
  },
  {
   "cell_type": "markdown",
   "metadata": {},
   "source": [
    "### Inspecting \n",
    "\n",
    "Use the following to take a peek at the dataset\n",
    "* `DataFrame.head()`\n",
    "* `DataFrame.tail()`\n"
   ]
  },
  {
   "cell_type": "code",
   "execution_count": 231,
   "metadata": {},
   "outputs": [
    {
     "data": {
      "text/html": [
       "<div>\n",
       "<style scoped>\n",
       "    .dataframe tbody tr th:only-of-type {\n",
       "        vertical-align: middle;\n",
       "    }\n",
       "\n",
       "    .dataframe tbody tr th {\n",
       "        vertical-align: top;\n",
       "    }\n",
       "\n",
       "    .dataframe thead th {\n",
       "        text-align: right;\n",
       "    }\n",
       "</style>\n",
       "<table border=\"1\" class=\"dataframe\">\n",
       "  <thead>\n",
       "    <tr style=\"text-align: right;\">\n",
       "      <th></th>\n",
       "      <th>name</th>\n",
       "      <th>age</th>\n",
       "      <th>salary_usd</th>\n",
       "      <th>profession</th>\n",
       "      <th>employer</th>\n",
       "    </tr>\n",
       "  </thead>\n",
       "  <tbody>\n",
       "    <tr>\n",
       "      <th>0</th>\n",
       "      <td>spongebob</td>\n",
       "      <td>19</td>\n",
       "      <td>12000.0</td>\n",
       "      <td>chef</td>\n",
       "      <td>the krusty krab</td>\n",
       "    </tr>\n",
       "    <tr>\n",
       "      <th>1</th>\n",
       "      <td>plankton</td>\n",
       "      <td>45</td>\n",
       "      <td>2.0</td>\n",
       "      <td>entrepreneur</td>\n",
       "      <td>the chum bucket</td>\n",
       "    </tr>\n",
       "  </tbody>\n",
       "</table>\n",
       "</div>"
      ],
      "text/plain": [
       "        name  age  salary_usd    profession          employer\n",
       "0  spongebob   19     12000.0          chef   the krusty krab\n",
       "1   plankton   45         2.0  entrepreneur   the chum bucket"
      ]
     },
     "execution_count": 231,
     "metadata": {},
     "output_type": "execute_result"
    }
   ],
   "source": [
    "data.head(2)"
   ]
  },
  {
   "cell_type": "code",
   "execution_count": 232,
   "metadata": {},
   "outputs": [
    {
     "data": {
      "text/html": [
       "<div>\n",
       "<style scoped>\n",
       "    .dataframe tbody tr th:only-of-type {\n",
       "        vertical-align: middle;\n",
       "    }\n",
       "\n",
       "    .dataframe tbody tr th {\n",
       "        vertical-align: top;\n",
       "    }\n",
       "\n",
       "    .dataframe thead th {\n",
       "        text-align: right;\n",
       "    }\n",
       "</style>\n",
       "<table border=\"1\" class=\"dataframe\">\n",
       "  <thead>\n",
       "    <tr style=\"text-align: right;\">\n",
       "      <th></th>\n",
       "      <th>name</th>\n",
       "      <th>age</th>\n",
       "      <th>salary_usd</th>\n",
       "      <th>profession</th>\n",
       "      <th>employer</th>\n",
       "    </tr>\n",
       "  </thead>\n",
       "  <tbody>\n",
       "    <tr>\n",
       "      <th>4</th>\n",
       "      <td>larry</td>\n",
       "      <td>25</td>\n",
       "      <td>37000.0</td>\n",
       "      <td>bodybuilder</td>\n",
       "      <td>none</td>\n",
       "    </tr>\n",
       "    <tr>\n",
       "      <th>5</th>\n",
       "      <td>patrick star</td>\n",
       "      <td>31</td>\n",
       "      <td>0.0</td>\n",
       "      <td>unemployed</td>\n",
       "      <td>none</td>\n",
       "    </tr>\n",
       "  </tbody>\n",
       "</table>\n",
       "</div>"
      ],
      "text/plain": [
       "           name  age  salary_usd   profession employer\n",
       "4         larry   25     37000.0  bodybuilder     none\n",
       "5  patrick star   31         0.0   unemployed     none"
      ]
     },
     "execution_count": 232,
     "metadata": {},
     "output_type": "execute_result"
    }
   ],
   "source": [
    "data.tail(2)"
   ]
  },
  {
   "cell_type": "code",
   "execution_count": 233,
   "metadata": {},
   "outputs": [
    {
     "data": {
      "text/html": [
       "<div>\n",
       "<style scoped>\n",
       "    .dataframe tbody tr th:only-of-type {\n",
       "        vertical-align: middle;\n",
       "    }\n",
       "\n",
       "    .dataframe tbody tr th {\n",
       "        vertical-align: top;\n",
       "    }\n",
       "\n",
       "    .dataframe thead th {\n",
       "        text-align: right;\n",
       "    }\n",
       "</style>\n",
       "<table border=\"1\" class=\"dataframe\">\n",
       "  <thead>\n",
       "    <tr style=\"text-align: right;\">\n",
       "      <th></th>\n",
       "      <th>age</th>\n",
       "      <th>salary_usd</th>\n",
       "    </tr>\n",
       "  </thead>\n",
       "  <tbody>\n",
       "    <tr>\n",
       "      <th>count</th>\n",
       "      <td>6.000000</td>\n",
       "      <td>6.000000</td>\n",
       "    </tr>\n",
       "    <tr>\n",
       "      <th>mean</th>\n",
       "      <td>30.833333</td>\n",
       "      <td>35667.000000</td>\n",
       "    </tr>\n",
       "    <tr>\n",
       "      <th>std</th>\n",
       "      <td>10.245324</td>\n",
       "      <td>40262.117853</td>\n",
       "    </tr>\n",
       "    <tr>\n",
       "      <th>min</th>\n",
       "      <td>19.000000</td>\n",
       "      <td>0.000000</td>\n",
       "    </tr>\n",
       "    <tr>\n",
       "      <th>25%</th>\n",
       "      <td>24.250000</td>\n",
       "      <td>3001.500000</td>\n",
       "    </tr>\n",
       "    <tr>\n",
       "      <th>50%</th>\n",
       "      <td>28.000000</td>\n",
       "      <td>24500.000000</td>\n",
       "    </tr>\n",
       "    <tr>\n",
       "      <th>75%</th>\n",
       "      <td>38.500000</td>\n",
       "      <td>58000.000000</td>\n",
       "    </tr>\n",
       "    <tr>\n",
       "      <th>max</th>\n",
       "      <td>45.000000</td>\n",
       "      <td>100000.000000</td>\n",
       "    </tr>\n",
       "  </tbody>\n",
       "</table>\n",
       "</div>"
      ],
      "text/plain": [
       "             age     salary_usd\n",
       "count   6.000000       6.000000\n",
       "mean   30.833333   35667.000000\n",
       "std    10.245324   40262.117853\n",
       "min    19.000000       0.000000\n",
       "25%    24.250000    3001.500000\n",
       "50%    28.000000   24500.000000\n",
       "75%    38.500000   58000.000000\n",
       "max    45.000000  100000.000000"
      ]
     },
     "execution_count": 233,
     "metadata": {},
     "output_type": "execute_result"
    }
   ],
   "source": [
    "data.describe()     # get high level metrics for numeric columns"
   ]
  },
  {
   "cell_type": "code",
   "execution_count": 234,
   "metadata": {},
   "outputs": [
    {
     "data": {
      "text/plain": [
       "(6, 5)"
      ]
     },
     "execution_count": 234,
     "metadata": {},
     "output_type": "execute_result"
    }
   ],
   "source": [
    "data.shape"
   ]
  },
  {
   "cell_type": "code",
   "execution_count": 235,
   "metadata": {},
   "outputs": [
    {
     "data": {
      "text/plain": [
       "name           object\n",
       "age             int64\n",
       "salary_usd    float64\n",
       "profession     object\n",
       "employer       object\n",
       "dtype: object"
      ]
     },
     "execution_count": 235,
     "metadata": {},
     "output_type": "execute_result"
    }
   ],
   "source": [
    "data.dtypes"
   ]
  },
  {
   "cell_type": "markdown",
   "metadata": {},
   "source": [
    "### Converting Column Types"
   ]
  },
  {
   "cell_type": "markdown",
   "metadata": {},
   "source": [
    "We need to convert the columns to the correct types to help future processing tasks and data integrity\n"
   ]
  },
  {
   "cell_type": "code",
   "execution_count": 236,
   "metadata": {},
   "outputs": [
    {
     "name": "stdout",
     "output_type": "stream",
     "text": [
      "name           object\n",
      "age              int8\n",
      "salary_usd    float32\n",
      "profession     object\n",
      "employer       object\n",
      "dtype: object\n"
     ]
    }
   ],
   "source": [
    "# Convert columns one by one\n",
    "data['age'] = pd.to_numeric(data['age'], downcast=\"integer\", errors=\"coerce\")\n",
    "data['salary_usd'] = pd.to_numeric(data['salary_usd'], downcast='float', errors='coerce')\n",
    "print(data.dtypes)"
   ]
  },
  {
   "cell_type": "markdown",
   "metadata": {},
   "source": [
    "We could have also done this at `read_csv()` time by passing a types dictionary"
   ]
  },
  {
   "cell_type": "code",
   "execution_count": 237,
   "metadata": {},
   "outputs": [
    {
     "data": {
      "text/plain": [
       "name           object\n",
       "age             int64\n",
       "salary_usd    float64\n",
       "profession     object\n",
       "employer       object\n",
       "dtype: object"
      ]
     },
     "execution_count": 237,
     "metadata": {},
     "output_type": "execute_result"
    }
   ],
   "source": [
    "data = pd.read_csv('./example.csv', dtype={\n",
    "    'name': str,\n",
    "    'age': int,\n",
    "    'salary_usd': float,\n",
    "    'profession': str,\n",
    "    'employer': str\n",
    "})\n",
    "data.dtypes"
   ]
  },
  {
   "cell_type": "markdown",
   "metadata": {},
   "source": [
    "### Filtering/Indexing"
   ]
  },
  {
   "cell_type": "markdown",
   "metadata": {},
   "source": [
    "#### Indexes\n",
    "\n",
    "All `Series`, `DataFrame`, `Panel` and `Panel4D` are indexed via indexes. These can be numeric or non-numeric (ex. `category`, `type`) indexes. They are extremely helpful in allowing for rapid indexing into multi-dimensional data and clean organization. \n",
    "\n",
    "They also help with emulating higher-dimensional data within 2 dimensional data (i.e., `DataFrame`)\n",
    "\n",
    "Helpful Resources:\n",
    "* https://towardsdatascience.com/understand-pandas-indexes-1b94f5c078c6\n",
    "* https://stackoverflow.com/questions/13226029/benefits-of-pandas-multiindex#answer-13226352"
   ]
  },
  {
   "cell_type": "markdown",
   "metadata": {},
   "source": [
    "#### Rows"
   ]
  },
  {
   "cell_type": "markdown",
   "metadata": {},
   "source": [
    "You can filter rows based on labels (numeric and non-numeric) labels:\n",
    "* Use `DataFrame.loc[]` for fetching columns based on the string label\n",
    "* Use `DataFrame.iloc[]` for fetching columns based on the numeric label"
   ]
  },
  {
   "cell_type": "code",
   "execution_count": 238,
   "metadata": {},
   "outputs": [
    {
     "data": {
      "text/html": [
       "<div>\n",
       "<style scoped>\n",
       "    .dataframe tbody tr th:only-of-type {\n",
       "        vertical-align: middle;\n",
       "    }\n",
       "\n",
       "    .dataframe tbody tr th {\n",
       "        vertical-align: top;\n",
       "    }\n",
       "\n",
       "    .dataframe thead th {\n",
       "        text-align: right;\n",
       "    }\n",
       "</style>\n",
       "<table border=\"1\" class=\"dataframe\">\n",
       "  <thead>\n",
       "    <tr style=\"text-align: right;\">\n",
       "      <th></th>\n",
       "      <th>name</th>\n",
       "      <th>age</th>\n",
       "      <th>salary_usd</th>\n",
       "      <th>profession</th>\n",
       "      <th>employer</th>\n",
       "    </tr>\n",
       "  </thead>\n",
       "  <tbody>\n",
       "    <tr>\n",
       "      <th>1</th>\n",
       "      <td>plankton</td>\n",
       "      <td>45</td>\n",
       "      <td>2.0</td>\n",
       "      <td>entrepreneur</td>\n",
       "      <td>the chum bucket</td>\n",
       "    </tr>\n",
       "    <tr>\n",
       "      <th>2</th>\n",
       "      <td>sandy</td>\n",
       "      <td>24</td>\n",
       "      <td>65000.0</td>\n",
       "      <td>retired</td>\n",
       "      <td>none</td>\n",
       "    </tr>\n",
       "  </tbody>\n",
       "</table>\n",
       "</div>"
      ],
      "text/plain": [
       "       name  age  salary_usd    profession          employer\n",
       "1  plankton   45         2.0  entrepreneur   the chum bucket\n",
       "2     sandy   24     65000.0       retired              none"
      ]
     },
     "execution_count": 238,
     "metadata": {},
     "output_type": "execute_result"
    }
   ],
   "source": [
    "# Fetch by numeric label\n",
    "data.iloc[1:3]        # our labels are int indexes (See code above) there we use `iloc[]`..."
   ]
  },
  {
   "cell_type": "code",
   "execution_count": 239,
   "metadata": {},
   "outputs": [
    {
     "data": {
      "text/plain": [
       "name                mr. krabs\n",
       "age                        41\n",
       "salary_usd             100000\n",
       "profession       entrepreneur\n",
       "employer      the krusty krab\n",
       "Name: 3, dtype: object"
      ]
     },
     "execution_count": 239,
     "metadata": {},
     "output_type": "execute_result"
    }
   ],
   "source": [
    "data.loc[3]"
   ]
  },
  {
   "cell_type": "markdown",
   "metadata": {},
   "source": [
    "#### Columns"
   ]
  },
  {
   "cell_type": "code",
   "execution_count": 240,
   "metadata": {},
   "outputs": [
    {
     "data": {
      "text/html": [
       "<div>\n",
       "<style scoped>\n",
       "    .dataframe tbody tr th:only-of-type {\n",
       "        vertical-align: middle;\n",
       "    }\n",
       "\n",
       "    .dataframe tbody tr th {\n",
       "        vertical-align: top;\n",
       "    }\n",
       "\n",
       "    .dataframe thead th {\n",
       "        text-align: right;\n",
       "    }\n",
       "</style>\n",
       "<table border=\"1\" class=\"dataframe\">\n",
       "  <thead>\n",
       "    <tr style=\"text-align: right;\">\n",
       "      <th></th>\n",
       "      <th>name</th>\n",
       "      <th>profession</th>\n",
       "    </tr>\n",
       "  </thead>\n",
       "  <tbody>\n",
       "    <tr>\n",
       "      <th>0</th>\n",
       "      <td>spongebob</td>\n",
       "      <td>chef</td>\n",
       "    </tr>\n",
       "    <tr>\n",
       "      <th>1</th>\n",
       "      <td>plankton</td>\n",
       "      <td>entrepreneur</td>\n",
       "    </tr>\n",
       "    <tr>\n",
       "      <th>2</th>\n",
       "      <td>sandy</td>\n",
       "      <td>retired</td>\n",
       "    </tr>\n",
       "    <tr>\n",
       "      <th>3</th>\n",
       "      <td>mr. krabs</td>\n",
       "      <td>entrepreneur</td>\n",
       "    </tr>\n",
       "    <tr>\n",
       "      <th>4</th>\n",
       "      <td>larry</td>\n",
       "      <td>bodybuilder</td>\n",
       "    </tr>\n",
       "    <tr>\n",
       "      <th>5</th>\n",
       "      <td>patrick star</td>\n",
       "      <td>unemployed</td>\n",
       "    </tr>\n",
       "  </tbody>\n",
       "</table>\n",
       "</div>"
      ],
      "text/plain": [
       "           name    profession\n",
       "0     spongebob          chef\n",
       "1      plankton  entrepreneur\n",
       "2         sandy       retired\n",
       "3     mr. krabs  entrepreneur\n",
       "4         larry   bodybuilder\n",
       "5  patrick star    unemployed"
      ]
     },
     "execution_count": 240,
     "metadata": {},
     "output_type": "execute_result"
    }
   ],
   "source": [
    "name_and_profession = data[['name', 'profession']]\n",
    "name_and_profession"
   ]
  },
  {
   "cell_type": "markdown",
   "metadata": {},
   "source": [
    "We can also refer to single columns as a property of the DataFrame:"
   ]
  },
  {
   "cell_type": "code",
   "execution_count": 241,
   "metadata": {},
   "outputs": [
    {
     "data": {
      "text/plain": [
       "0       spongebob\n",
       "1        plankton\n",
       "2           sandy\n",
       "3       mr. krabs\n",
       "4           larry\n",
       "5    patrick star\n",
       "Name: name, dtype: object"
      ]
     },
     "execution_count": 241,
     "metadata": {},
     "output_type": "execute_result"
    }
   ],
   "source": [
    "data.name"
   ]
  },
  {
   "cell_type": "markdown",
   "metadata": {},
   "source": [
    "#### Boolean Indexing\n",
    "\n",
    "Boolean Indexing relies indexing into a Series or DataFrame based on a sequence of boolean values.\n",
    "\n",
    "If we generate a Series of boolean values and feed this into a DataFrame indexer, then Pandas will\n",
    "retrieve all the rows associated with the True boolean indexes"
   ]
  },
  {
   "cell_type": "code",
   "execution_count": 242,
   "metadata": {},
   "outputs": [
    {
     "data": {
      "text/html": [
       "<div>\n",
       "<style scoped>\n",
       "    .dataframe tbody tr th:only-of-type {\n",
       "        vertical-align: middle;\n",
       "    }\n",
       "\n",
       "    .dataframe tbody tr th {\n",
       "        vertical-align: top;\n",
       "    }\n",
       "\n",
       "    .dataframe thead th {\n",
       "        text-align: right;\n",
       "    }\n",
       "</style>\n",
       "<table border=\"1\" class=\"dataframe\">\n",
       "  <thead>\n",
       "    <tr style=\"text-align: right;\">\n",
       "      <th></th>\n",
       "      <th>name</th>\n",
       "      <th>age</th>\n",
       "      <th>salary_usd</th>\n",
       "      <th>profession</th>\n",
       "      <th>employer</th>\n",
       "    </tr>\n",
       "  </thead>\n",
       "  <tbody>\n",
       "    <tr>\n",
       "      <th>1</th>\n",
       "      <td>plankton</td>\n",
       "      <td>45</td>\n",
       "      <td>2.0</td>\n",
       "      <td>entrepreneur</td>\n",
       "      <td>the chum bucket</td>\n",
       "    </tr>\n",
       "    <tr>\n",
       "      <th>3</th>\n",
       "      <td>mr. krabs</td>\n",
       "      <td>41</td>\n",
       "      <td>100000.0</td>\n",
       "      <td>entrepreneur</td>\n",
       "      <td>the krusty krab</td>\n",
       "    </tr>\n",
       "  </tbody>\n",
       "</table>\n",
       "</div>"
      ],
      "text/plain": [
       "        name  age  salary_usd    profession          employer\n",
       "1   plankton   45         2.0  entrepreneur   the chum bucket\n",
       "3  mr. krabs   41    100000.0  entrepreneur   the krusty krab"
      ]
     },
     "execution_count": 242,
     "metadata": {},
     "output_type": "execute_result"
    }
   ],
   "source": [
    "# Long-hand version\n",
    "boolean_index = data['age'] > 40    # this element-wise operation will generate a series of boolean values\n",
    "\n",
    "old_people = data[boolean_index]    # use the boolean index within dataframe indexer to retrieve the rows\n",
    "old_people\n"
   ]
  },
  {
   "cell_type": "code",
   "execution_count": 243,
   "metadata": {},
   "outputs": [
    {
     "data": {
      "text/html": [
       "<div>\n",
       "<style scoped>\n",
       "    .dataframe tbody tr th:only-of-type {\n",
       "        vertical-align: middle;\n",
       "    }\n",
       "\n",
       "    .dataframe tbody tr th {\n",
       "        vertical-align: top;\n",
       "    }\n",
       "\n",
       "    .dataframe thead th {\n",
       "        text-align: right;\n",
       "    }\n",
       "</style>\n",
       "<table border=\"1\" class=\"dataframe\">\n",
       "  <thead>\n",
       "    <tr style=\"text-align: right;\">\n",
       "      <th></th>\n",
       "      <th>name</th>\n",
       "      <th>age</th>\n",
       "      <th>salary_usd</th>\n",
       "      <th>profession</th>\n",
       "      <th>employer</th>\n",
       "    </tr>\n",
       "  </thead>\n",
       "  <tbody>\n",
       "    <tr>\n",
       "      <th>0</th>\n",
       "      <td>spongebob</td>\n",
       "      <td>19</td>\n",
       "      <td>12000.0</td>\n",
       "      <td>chef</td>\n",
       "      <td>the krusty krab</td>\n",
       "    </tr>\n",
       "    <tr>\n",
       "      <th>2</th>\n",
       "      <td>sandy</td>\n",
       "      <td>24</td>\n",
       "      <td>65000.0</td>\n",
       "      <td>retired</td>\n",
       "      <td>none</td>\n",
       "    </tr>\n",
       "    <tr>\n",
       "      <th>4</th>\n",
       "      <td>larry</td>\n",
       "      <td>25</td>\n",
       "      <td>37000.0</td>\n",
       "      <td>bodybuilder</td>\n",
       "      <td>none</td>\n",
       "    </tr>\n",
       "    <tr>\n",
       "      <th>5</th>\n",
       "      <td>patrick star</td>\n",
       "      <td>31</td>\n",
       "      <td>0.0</td>\n",
       "      <td>unemployed</td>\n",
       "      <td>none</td>\n",
       "    </tr>\n",
       "  </tbody>\n",
       "</table>\n",
       "</div>"
      ],
      "text/plain": [
       "           name  age  salary_usd   profession         employer\n",
       "0     spongebob   19     12000.0         chef  the krusty krab\n",
       "2         sandy   24     65000.0      retired             none\n",
       "4         larry   25     37000.0  bodybuilder             none\n",
       "5  patrick star   31         0.0   unemployed             none"
      ]
     },
     "execution_count": 243,
     "metadata": {},
     "output_type": "execute_result"
    }
   ],
   "source": [
    "# short-hand version\n",
    "young_people = data[data.age < 40]\n",
    "young_people"
   ]
  },
  {
   "cell_type": "markdown",
   "metadata": {},
   "source": [
    "#### Query Expression\n",
    "\n",
    "You can define a boolean expression and pass it as a string to `DataFrame.query()` function to filter data"
   ]
  },
  {
   "cell_type": "code",
   "execution_count": 244,
   "metadata": {},
   "outputs": [
    {
     "data": {
      "text/html": [
       "<div>\n",
       "<style scoped>\n",
       "    .dataframe tbody tr th:only-of-type {\n",
       "        vertical-align: middle;\n",
       "    }\n",
       "\n",
       "    .dataframe tbody tr th {\n",
       "        vertical-align: top;\n",
       "    }\n",
       "\n",
       "    .dataframe thead th {\n",
       "        text-align: right;\n",
       "    }\n",
       "</style>\n",
       "<table border=\"1\" class=\"dataframe\">\n",
       "  <thead>\n",
       "    <tr style=\"text-align: right;\">\n",
       "      <th></th>\n",
       "      <th>name</th>\n",
       "      <th>age</th>\n",
       "      <th>salary_usd</th>\n",
       "      <th>profession</th>\n",
       "      <th>employer</th>\n",
       "    </tr>\n",
       "  </thead>\n",
       "  <tbody>\n",
       "    <tr>\n",
       "      <th>0</th>\n",
       "      <td>spongebob</td>\n",
       "      <td>19</td>\n",
       "      <td>12000.0</td>\n",
       "      <td>chef</td>\n",
       "      <td>the krusty krab</td>\n",
       "    </tr>\n",
       "    <tr>\n",
       "      <th>1</th>\n",
       "      <td>plankton</td>\n",
       "      <td>45</td>\n",
       "      <td>2.0</td>\n",
       "      <td>entrepreneur</td>\n",
       "      <td>the chum bucket</td>\n",
       "    </tr>\n",
       "    <tr>\n",
       "      <th>3</th>\n",
       "      <td>mr. krabs</td>\n",
       "      <td>41</td>\n",
       "      <td>100000.0</td>\n",
       "      <td>entrepreneur</td>\n",
       "      <td>the krusty krab</td>\n",
       "    </tr>\n",
       "    <tr>\n",
       "      <th>4</th>\n",
       "      <td>larry</td>\n",
       "      <td>25</td>\n",
       "      <td>37000.0</td>\n",
       "      <td>bodybuilder</td>\n",
       "      <td>none</td>\n",
       "    </tr>\n",
       "  </tbody>\n",
       "</table>\n",
       "</div>"
      ],
      "text/plain": [
       "        name  age  salary_usd    profession          employer\n",
       "0  spongebob   19     12000.0          chef   the krusty krab\n",
       "1   plankton   45         2.0  entrepreneur   the chum bucket\n",
       "3  mr. krabs   41    100000.0  entrepreneur   the krusty krab\n",
       "4      larry   25     37000.0   bodybuilder              none"
      ]
     },
     "execution_count": 244,
     "metadata": {},
     "output_type": "execute_result"
    }
   ],
   "source": [
    "# Get all employed people (i.e., not unemployed and not retired)\n",
    "data.query(\"profession != 'retired' and profession != 'unemployed'\")"
   ]
  },
  {
   "cell_type": "markdown",
   "metadata": {},
   "source": [
    "### Adding and Removing Data"
   ]
  },
  {
   "cell_type": "markdown",
   "metadata": {},
   "source": [
    "#### Rows"
   ]
  },
  {
   "cell_type": "code",
   "execution_count": 245,
   "metadata": {},
   "outputs": [
    {
     "data": {
      "text/html": [
       "<div>\n",
       "<style scoped>\n",
       "    .dataframe tbody tr th:only-of-type {\n",
       "        vertical-align: middle;\n",
       "    }\n",
       "\n",
       "    .dataframe tbody tr th {\n",
       "        vertical-align: top;\n",
       "    }\n",
       "\n",
       "    .dataframe thead th {\n",
       "        text-align: right;\n",
       "    }\n",
       "</style>\n",
       "<table border=\"1\" class=\"dataframe\">\n",
       "  <thead>\n",
       "    <tr style=\"text-align: right;\">\n",
       "      <th></th>\n",
       "      <th>name</th>\n",
       "      <th>age</th>\n",
       "      <th>salary_usd</th>\n",
       "      <th>profession</th>\n",
       "      <th>employer</th>\n",
       "    </tr>\n",
       "  </thead>\n",
       "  <tbody>\n",
       "    <tr>\n",
       "      <th>0</th>\n",
       "      <td>spongebob</td>\n",
       "      <td>19</td>\n",
       "      <td>12000.0</td>\n",
       "      <td>chef</td>\n",
       "      <td>the krusty krab</td>\n",
       "    </tr>\n",
       "    <tr>\n",
       "      <th>1</th>\n",
       "      <td>plankton</td>\n",
       "      <td>45</td>\n",
       "      <td>2.0</td>\n",
       "      <td>entrepreneur</td>\n",
       "      <td>the chum bucket</td>\n",
       "    </tr>\n",
       "    <tr>\n",
       "      <th>2</th>\n",
       "      <td>sandy</td>\n",
       "      <td>24</td>\n",
       "      <td>65000.0</td>\n",
       "      <td>retired</td>\n",
       "      <td>none</td>\n",
       "    </tr>\n",
       "    <tr>\n",
       "      <th>3</th>\n",
       "      <td>mr. krabs</td>\n",
       "      <td>41</td>\n",
       "      <td>100000.0</td>\n",
       "      <td>entrepreneur</td>\n",
       "      <td>the krusty krab</td>\n",
       "    </tr>\n",
       "    <tr>\n",
       "      <th>4</th>\n",
       "      <td>larry</td>\n",
       "      <td>25</td>\n",
       "      <td>37000.0</td>\n",
       "      <td>bodybuilder</td>\n",
       "      <td>none</td>\n",
       "    </tr>\n",
       "    <tr>\n",
       "      <th>5</th>\n",
       "      <td>patrick star</td>\n",
       "      <td>31</td>\n",
       "      <td>0.0</td>\n",
       "      <td>unemployed</td>\n",
       "      <td>none</td>\n",
       "    </tr>\n",
       "    <tr>\n",
       "      <th>6</th>\n",
       "      <td>squidward</td>\n",
       "      <td>19</td>\n",
       "      <td>12000.0</td>\n",
       "      <td>musician</td>\n",
       "      <td>the krusty krab</td>\n",
       "    </tr>\n",
       "  </tbody>\n",
       "</table>\n",
       "</div>"
      ],
      "text/plain": [
       "           name  age  salary_usd    profession          employer\n",
       "0     spongebob   19     12000.0          chef   the krusty krab\n",
       "1      plankton   45         2.0  entrepreneur   the chum bucket\n",
       "2         sandy   24     65000.0       retired              none\n",
       "3     mr. krabs   41    100000.0  entrepreneur   the krusty krab\n",
       "4         larry   25     37000.0   bodybuilder              none\n",
       "5  patrick star   31         0.0    unemployed              none\n",
       "6     squidward   19     12000.0      musician   the krusty krab"
      ]
     },
     "execution_count": 245,
     "metadata": {},
     "output_type": "execute_result"
    }
   ],
   "source": [
    "# adding row\n",
    "new_data = pd.DataFrame([{\n",
    "    'name': 'squidward', \n",
    "    'age': 42, \n",
    "    'salary_usd': 10000,\n",
    "    'profession': 'musician',\n",
    "    'employer': 'the krusty krab'\n",
    "}])\n",
    "# convert the new data columns to correct types otherwise concat will revert our previous typing\n",
    "# information\n",
    "new_data['age'] = pd.to_numeric(data['age'], downcast=\"integer\", errors=\"coerce\")\n",
    "new_data['salary_usd'] = pd.to_numeric(data['salary_usd'], downcast='float', errors='coerce')\n",
    "# append the new data to the original dataset\n",
    "data = pd.concat([data, new_data], ignore_index=True)\n",
    "data\n",
    "\n"
   ]
  },
  {
   "cell_type": "code",
   "execution_count": 246,
   "metadata": {},
   "outputs": [
    {
     "data": {
      "text/html": [
       "<div>\n",
       "<style scoped>\n",
       "    .dataframe tbody tr th:only-of-type {\n",
       "        vertical-align: middle;\n",
       "    }\n",
       "\n",
       "    .dataframe tbody tr th {\n",
       "        vertical-align: top;\n",
       "    }\n",
       "\n",
       "    .dataframe thead th {\n",
       "        text-align: right;\n",
       "    }\n",
       "</style>\n",
       "<table border=\"1\" class=\"dataframe\">\n",
       "  <thead>\n",
       "    <tr style=\"text-align: right;\">\n",
       "      <th></th>\n",
       "      <th>name</th>\n",
       "      <th>age</th>\n",
       "      <th>salary_usd</th>\n",
       "      <th>profession</th>\n",
       "      <th>employer</th>\n",
       "    </tr>\n",
       "  </thead>\n",
       "  <tbody>\n",
       "    <tr>\n",
       "      <th>0</th>\n",
       "      <td>spongebob</td>\n",
       "      <td>19</td>\n",
       "      <td>12000.0</td>\n",
       "      <td>chef</td>\n",
       "      <td>the krusty krab</td>\n",
       "    </tr>\n",
       "    <tr>\n",
       "      <th>2</th>\n",
       "      <td>sandy</td>\n",
       "      <td>24</td>\n",
       "      <td>65000.0</td>\n",
       "      <td>retired</td>\n",
       "      <td>none</td>\n",
       "    </tr>\n",
       "    <tr>\n",
       "      <th>3</th>\n",
       "      <td>mr. krabs</td>\n",
       "      <td>41</td>\n",
       "      <td>100000.0</td>\n",
       "      <td>entrepreneur</td>\n",
       "      <td>the krusty krab</td>\n",
       "    </tr>\n",
       "    <tr>\n",
       "      <th>4</th>\n",
       "      <td>larry</td>\n",
       "      <td>25</td>\n",
       "      <td>37000.0</td>\n",
       "      <td>bodybuilder</td>\n",
       "      <td>none</td>\n",
       "    </tr>\n",
       "    <tr>\n",
       "      <th>5</th>\n",
       "      <td>patrick star</td>\n",
       "      <td>31</td>\n",
       "      <td>0.0</td>\n",
       "      <td>unemployed</td>\n",
       "      <td>none</td>\n",
       "    </tr>\n",
       "    <tr>\n",
       "      <th>6</th>\n",
       "      <td>squidward</td>\n",
       "      <td>19</td>\n",
       "      <td>12000.0</td>\n",
       "      <td>musician</td>\n",
       "      <td>the krusty krab</td>\n",
       "    </tr>\n",
       "  </tbody>\n",
       "</table>\n",
       "</div>"
      ],
      "text/plain": [
       "           name  age  salary_usd    profession         employer\n",
       "0     spongebob   19     12000.0          chef  the krusty krab\n",
       "2         sandy   24     65000.0       retired             none\n",
       "3     mr. krabs   41    100000.0  entrepreneur  the krusty krab\n",
       "4         larry   25     37000.0   bodybuilder             none\n",
       "5  patrick star   31         0.0    unemployed             none\n",
       "6     squidward   19     12000.0      musician  the krusty krab"
      ]
     },
     "execution_count": 246,
     "metadata": {},
     "output_type": "execute_result"
    }
   ],
   "source": [
    "# removing row\n",
    "copy = data.copy()\n",
    "dropped = copy.drop(index=1)\n",
    "dropped"
   ]
  },
  {
   "cell_type": "markdown",
   "metadata": {},
   "source": [
    "#### Columns"
   ]
  },
  {
   "cell_type": "code",
   "execution_count": 247,
   "metadata": {},
   "outputs": [
    {
     "data": {
      "text/html": [
       "<div>\n",
       "<style scoped>\n",
       "    .dataframe tbody tr th:only-of-type {\n",
       "        vertical-align: middle;\n",
       "    }\n",
       "\n",
       "    .dataframe tbody tr th {\n",
       "        vertical-align: top;\n",
       "    }\n",
       "\n",
       "    .dataframe thead th {\n",
       "        text-align: right;\n",
       "    }\n",
       "</style>\n",
       "<table border=\"1\" class=\"dataframe\">\n",
       "  <thead>\n",
       "    <tr style=\"text-align: right;\">\n",
       "      <th></th>\n",
       "      <th>name</th>\n",
       "      <th>age</th>\n",
       "      <th>salary_usd</th>\n",
       "      <th>profession</th>\n",
       "      <th>employer</th>\n",
       "      <th>species</th>\n",
       "    </tr>\n",
       "  </thead>\n",
       "  <tbody>\n",
       "    <tr>\n",
       "      <th>0</th>\n",
       "      <td>spongebob</td>\n",
       "      <td>19</td>\n",
       "      <td>12000.0</td>\n",
       "      <td>chef</td>\n",
       "      <td>the krusty krab</td>\n",
       "      <td>sponge</td>\n",
       "    </tr>\n",
       "    <tr>\n",
       "      <th>1</th>\n",
       "      <td>plankton</td>\n",
       "      <td>45</td>\n",
       "      <td>2.0</td>\n",
       "      <td>entrepreneur</td>\n",
       "      <td>the chum bucket</td>\n",
       "      <td>plankton</td>\n",
       "    </tr>\n",
       "    <tr>\n",
       "      <th>2</th>\n",
       "      <td>sandy</td>\n",
       "      <td>24</td>\n",
       "      <td>65000.0</td>\n",
       "      <td>retired</td>\n",
       "      <td>none</td>\n",
       "      <td>squirrel</td>\n",
       "    </tr>\n",
       "    <tr>\n",
       "      <th>3</th>\n",
       "      <td>mr. krabs</td>\n",
       "      <td>41</td>\n",
       "      <td>100000.0</td>\n",
       "      <td>entrepreneur</td>\n",
       "      <td>the krusty krab</td>\n",
       "      <td>crab</td>\n",
       "    </tr>\n",
       "    <tr>\n",
       "      <th>4</th>\n",
       "      <td>larry</td>\n",
       "      <td>25</td>\n",
       "      <td>37000.0</td>\n",
       "      <td>bodybuilder</td>\n",
       "      <td>none</td>\n",
       "      <td>lobster</td>\n",
       "    </tr>\n",
       "    <tr>\n",
       "      <th>5</th>\n",
       "      <td>patrick star</td>\n",
       "      <td>31</td>\n",
       "      <td>0.0</td>\n",
       "      <td>unemployed</td>\n",
       "      <td>none</td>\n",
       "      <td>starfish</td>\n",
       "    </tr>\n",
       "    <tr>\n",
       "      <th>6</th>\n",
       "      <td>squidward</td>\n",
       "      <td>19</td>\n",
       "      <td>12000.0</td>\n",
       "      <td>musician</td>\n",
       "      <td>the krusty krab</td>\n",
       "      <td>octopus</td>\n",
       "    </tr>\n",
       "  </tbody>\n",
       "</table>\n",
       "</div>"
      ],
      "text/plain": [
       "           name  age  salary_usd    profession          employer   species\n",
       "0     spongebob   19     12000.0          chef   the krusty krab    sponge\n",
       "1      plankton   45         2.0  entrepreneur   the chum bucket  plankton\n",
       "2         sandy   24     65000.0       retired              none  squirrel\n",
       "3     mr. krabs   41    100000.0  entrepreneur   the krusty krab      crab\n",
       "4         larry   25     37000.0   bodybuilder              none   lobster\n",
       "5  patrick star   31         0.0    unemployed              none  starfish\n",
       "6     squidward   19     12000.0      musician   the krusty krab   octopus"
      ]
     },
     "execution_count": 247,
     "metadata": {},
     "output_type": "execute_result"
    }
   ],
   "source": [
    "# Adding Column\n",
    "species = pd.Series(['sponge', 'plankton', 'squirrel', 'crab', 'lobster', 'starfish', 'octopus'], dtype=str)\n",
    "data['species'] = species\n",
    "data"
   ]
  },
  {
   "cell_type": "code",
   "execution_count": 248,
   "metadata": {},
   "outputs": [
    {
     "data": {
      "text/html": [
       "<div>\n",
       "<style scoped>\n",
       "    .dataframe tbody tr th:only-of-type {\n",
       "        vertical-align: middle;\n",
       "    }\n",
       "\n",
       "    .dataframe tbody tr th {\n",
       "        vertical-align: top;\n",
       "    }\n",
       "\n",
       "    .dataframe thead th {\n",
       "        text-align: right;\n",
       "    }\n",
       "</style>\n",
       "<table border=\"1\" class=\"dataframe\">\n",
       "  <thead>\n",
       "    <tr style=\"text-align: right;\">\n",
       "      <th></th>\n",
       "      <th>name</th>\n",
       "      <th>age</th>\n",
       "      <th>salary_usd</th>\n",
       "      <th>profession</th>\n",
       "      <th>employer</th>\n",
       "      <th>species</th>\n",
       "      <th>home</th>\n",
       "    </tr>\n",
       "  </thead>\n",
       "  <tbody>\n",
       "    <tr>\n",
       "      <th>0</th>\n",
       "      <td>spongebob</td>\n",
       "      <td>19</td>\n",
       "      <td>12000.0</td>\n",
       "      <td>chef</td>\n",
       "      <td>the krusty krab</td>\n",
       "      <td>sponge</td>\n",
       "      <td>pineapple</td>\n",
       "    </tr>\n",
       "    <tr>\n",
       "      <th>1</th>\n",
       "      <td>plankton</td>\n",
       "      <td>45</td>\n",
       "      <td>2.0</td>\n",
       "      <td>entrepreneur</td>\n",
       "      <td>the chum bucket</td>\n",
       "      <td>plankton</td>\n",
       "      <td>bucket</td>\n",
       "    </tr>\n",
       "    <tr>\n",
       "      <th>2</th>\n",
       "      <td>sandy</td>\n",
       "      <td>24</td>\n",
       "      <td>65000.0</td>\n",
       "      <td>retired</td>\n",
       "      <td>none</td>\n",
       "      <td>squirrel</td>\n",
       "      <td>air enclosure</td>\n",
       "    </tr>\n",
       "    <tr>\n",
       "      <th>3</th>\n",
       "      <td>mr. krabs</td>\n",
       "      <td>41</td>\n",
       "      <td>100000.0</td>\n",
       "      <td>entrepreneur</td>\n",
       "      <td>the krusty krab</td>\n",
       "      <td>crab</td>\n",
       "      <td>anchor</td>\n",
       "    </tr>\n",
       "    <tr>\n",
       "      <th>4</th>\n",
       "      <td>larry</td>\n",
       "      <td>25</td>\n",
       "      <td>37000.0</td>\n",
       "      <td>bodybuilder</td>\n",
       "      <td>none</td>\n",
       "      <td>lobster</td>\n",
       "      <td>muscle beach</td>\n",
       "    </tr>\n",
       "    <tr>\n",
       "      <th>5</th>\n",
       "      <td>patrick star</td>\n",
       "      <td>31</td>\n",
       "      <td>0.0</td>\n",
       "      <td>unemployed</td>\n",
       "      <td>none</td>\n",
       "      <td>starfish</td>\n",
       "      <td>under a rock</td>\n",
       "    </tr>\n",
       "    <tr>\n",
       "      <th>6</th>\n",
       "      <td>squidward</td>\n",
       "      <td>19</td>\n",
       "      <td>12000.0</td>\n",
       "      <td>musician</td>\n",
       "      <td>the krusty krab</td>\n",
       "      <td>octopus</td>\n",
       "      <td>moai statue</td>\n",
       "    </tr>\n",
       "  </tbody>\n",
       "</table>\n",
       "</div>"
      ],
      "text/plain": [
       "           name  age  salary_usd    profession          employer   species  \\\n",
       "0     spongebob   19     12000.0          chef   the krusty krab    sponge   \n",
       "1      plankton   45         2.0  entrepreneur   the chum bucket  plankton   \n",
       "2         sandy   24     65000.0       retired              none  squirrel   \n",
       "3     mr. krabs   41    100000.0  entrepreneur   the krusty krab      crab   \n",
       "4         larry   25     37000.0   bodybuilder              none   lobster   \n",
       "5  patrick star   31         0.0    unemployed              none  starfish   \n",
       "6     squidward   19     12000.0      musician   the krusty krab   octopus   \n",
       "\n",
       "            home  \n",
       "0      pineapple  \n",
       "1         bucket  \n",
       "2  air enclosure  \n",
       "3         anchor  \n",
       "4   muscle beach  \n",
       "5   under a rock  \n",
       "6    moai statue  "
      ]
     },
     "execution_count": 248,
     "metadata": {},
     "output_type": "execute_result"
    }
   ],
   "source": [
    "# Adding column using concat\n",
    "home = pd.DataFrame({\n",
    "    'home': [\n",
    "        'pineapple',\n",
    "        'bucket',\n",
    "        'air enclosure',\n",
    "        'anchor',\n",
    "        'muscle beach',\n",
    "        'under a rock',\n",
    "        'moai statue'\n",
    "    ]\n",
    "})\n",
    "data = pd.concat([data, home], axis=1)\n",
    "data"
   ]
  },
  {
   "cell_type": "code",
   "execution_count": 249,
   "metadata": {},
   "outputs": [
    {
     "data": {
      "text/html": [
       "<div>\n",
       "<style scoped>\n",
       "    .dataframe tbody tr th:only-of-type {\n",
       "        vertical-align: middle;\n",
       "    }\n",
       "\n",
       "    .dataframe tbody tr th {\n",
       "        vertical-align: top;\n",
       "    }\n",
       "\n",
       "    .dataframe thead th {\n",
       "        text-align: right;\n",
       "    }\n",
       "</style>\n",
       "<table border=\"1\" class=\"dataframe\">\n",
       "  <thead>\n",
       "    <tr style=\"text-align: right;\">\n",
       "      <th></th>\n",
       "      <th>name</th>\n",
       "      <th>salary_usd</th>\n",
       "      <th>profession</th>\n",
       "      <th>employer</th>\n",
       "      <th>species</th>\n",
       "      <th>home</th>\n",
       "    </tr>\n",
       "  </thead>\n",
       "  <tbody>\n",
       "    <tr>\n",
       "      <th>0</th>\n",
       "      <td>spongebob</td>\n",
       "      <td>12000.0</td>\n",
       "      <td>chef</td>\n",
       "      <td>the krusty krab</td>\n",
       "      <td>sponge</td>\n",
       "      <td>pineapple</td>\n",
       "    </tr>\n",
       "    <tr>\n",
       "      <th>1</th>\n",
       "      <td>plankton</td>\n",
       "      <td>2.0</td>\n",
       "      <td>entrepreneur</td>\n",
       "      <td>the chum bucket</td>\n",
       "      <td>plankton</td>\n",
       "      <td>bucket</td>\n",
       "    </tr>\n",
       "    <tr>\n",
       "      <th>2</th>\n",
       "      <td>sandy</td>\n",
       "      <td>65000.0</td>\n",
       "      <td>retired</td>\n",
       "      <td>none</td>\n",
       "      <td>squirrel</td>\n",
       "      <td>air enclosure</td>\n",
       "    </tr>\n",
       "    <tr>\n",
       "      <th>3</th>\n",
       "      <td>mr. krabs</td>\n",
       "      <td>100000.0</td>\n",
       "      <td>entrepreneur</td>\n",
       "      <td>the krusty krab</td>\n",
       "      <td>crab</td>\n",
       "      <td>anchor</td>\n",
       "    </tr>\n",
       "    <tr>\n",
       "      <th>4</th>\n",
       "      <td>larry</td>\n",
       "      <td>37000.0</td>\n",
       "      <td>bodybuilder</td>\n",
       "      <td>none</td>\n",
       "      <td>lobster</td>\n",
       "      <td>muscle beach</td>\n",
       "    </tr>\n",
       "    <tr>\n",
       "      <th>5</th>\n",
       "      <td>patrick star</td>\n",
       "      <td>0.0</td>\n",
       "      <td>unemployed</td>\n",
       "      <td>none</td>\n",
       "      <td>starfish</td>\n",
       "      <td>under a rock</td>\n",
       "    </tr>\n",
       "    <tr>\n",
       "      <th>6</th>\n",
       "      <td>squidward</td>\n",
       "      <td>12000.0</td>\n",
       "      <td>musician</td>\n",
       "      <td>the krusty krab</td>\n",
       "      <td>octopus</td>\n",
       "      <td>moai statue</td>\n",
       "    </tr>\n",
       "  </tbody>\n",
       "</table>\n",
       "</div>"
      ],
      "text/plain": [
       "           name  salary_usd    profession          employer   species  \\\n",
       "0     spongebob     12000.0          chef   the krusty krab    sponge   \n",
       "1      plankton         2.0  entrepreneur   the chum bucket  plankton   \n",
       "2         sandy     65000.0       retired              none  squirrel   \n",
       "3     mr. krabs    100000.0  entrepreneur   the krusty krab      crab   \n",
       "4         larry     37000.0   bodybuilder              none   lobster   \n",
       "5  patrick star         0.0    unemployed              none  starfish   \n",
       "6     squidward     12000.0      musician   the krusty krab   octopus   \n",
       "\n",
       "            home  \n",
       "0      pineapple  \n",
       "1         bucket  \n",
       "2  air enclosure  \n",
       "3         anchor  \n",
       "4   muscle beach  \n",
       "5   under a rock  \n",
       "6    moai statue  "
      ]
     },
     "execution_count": 249,
     "metadata": {},
     "output_type": "execute_result"
    }
   ],
   "source": [
    "# Removing Column\n",
    "without_age = data.drop(columns=['age'])\n",
    "without_age"
   ]
  },
  {
   "cell_type": "markdown",
   "metadata": {},
   "source": [
    "#### Using `apply()`"
   ]
  },
  {
   "cell_type": "code",
   "execution_count": 250,
   "metadata": {},
   "outputs": [
    {
     "data": {
      "text/plain": [
       "0     12123.0\n",
       "3    100123.0\n",
       "6     12123.0\n",
       "Name: salary_usd, dtype: float64"
      ]
     },
     "execution_count": 250,
     "metadata": {},
     "output_type": "execute_result"
    }
   ],
   "source": [
    "# apply custom logic \n",
    "salary_bonus_func = lambda d: d + 123\n",
    "copy.salary_usd[copy.employer == 'the krusty krab'].apply(salary_bonus_func)"
   ]
  },
  {
   "cell_type": "markdown",
   "metadata": {},
   "source": [
    "#### Handling Missing Data\n",
    "\n",
    "Two strategies for handling missing data\n",
    "1. Drop data\n",
    "    * Drop Row\n",
    "    * Drop Column\n",
    "2. Impute/Substitute data\n",
    "    * By Mean"
   ]
  },
  {
   "cell_type": "markdown",
   "metadata": {},
   "source": [
    "##### Drop Data"
   ]
  },
  {
   "cell_type": "code",
   "execution_count": 251,
   "metadata": {},
   "outputs": [
    {
     "name": "stdout",
     "output_type": "stream",
     "text": [
      "   first second  third\n",
      "0    1.0      a  hello\n",
      "1    NaN      b   None\n",
      "2    3.0      c   None\n",
      "3    4.0      d  world\n",
      "   first second  third\n",
      "0    1.0      a  hello\n",
      "3    4.0      d  world\n",
      "  second\n",
      "0      a\n",
      "1      b\n",
      "2      c\n",
      "3      d\n"
     ]
    }
   ],
   "source": [
    "with_missing_values = pd.DataFrame([\n",
    "    [1,'a','hello'],\n",
    "    [None, 'b', None],\n",
    "    [3, 'c', None],\n",
    "    [4, 'd', 'world']\n",
    "], columns=['first', 'second', 'third'])\n",
    "print(with_missing_values)\n",
    "\n",
    "dropped_rows = with_missing_values.dropna(axis=0)\n",
    "print(dropped_rows)\n",
    "\n",
    "dropped_cols = with_missing_values.dropna(axis=1)\n",
    "print(dropped_cols)"
   ]
  },
  {
   "cell_type": "markdown",
   "metadata": {},
   "source": [
    "You can customize other parameters of the drop operation such as the threshold (number of missing values) needed for a candidate row/column to be dropped"
   ]
  },
  {
   "cell_type": "code",
   "execution_count": 252,
   "metadata": {},
   "outputs": [
    {
     "data": {
      "text/html": [
       "<div>\n",
       "<style scoped>\n",
       "    .dataframe tbody tr th:only-of-type {\n",
       "        vertical-align: middle;\n",
       "    }\n",
       "\n",
       "    .dataframe tbody tr th {\n",
       "        vertical-align: top;\n",
       "    }\n",
       "\n",
       "    .dataframe thead th {\n",
       "        text-align: right;\n",
       "    }\n",
       "</style>\n",
       "<table border=\"1\" class=\"dataframe\">\n",
       "  <thead>\n",
       "    <tr style=\"text-align: right;\">\n",
       "      <th></th>\n",
       "      <th>first</th>\n",
       "      <th>second</th>\n",
       "      <th>third</th>\n",
       "    </tr>\n",
       "  </thead>\n",
       "  <tbody>\n",
       "    <tr>\n",
       "      <th>0</th>\n",
       "      <td>1.0</td>\n",
       "      <td>a</td>\n",
       "      <td>hello</td>\n",
       "    </tr>\n",
       "    <tr>\n",
       "      <th>2</th>\n",
       "      <td>3.0</td>\n",
       "      <td>c</td>\n",
       "      <td>None</td>\n",
       "    </tr>\n",
       "    <tr>\n",
       "      <th>3</th>\n",
       "      <td>4.0</td>\n",
       "      <td>d</td>\n",
       "      <td>world</td>\n",
       "    </tr>\n",
       "  </tbody>\n",
       "</table>\n",
       "</div>"
      ],
      "text/plain": [
       "   first second  third\n",
       "0    1.0      a  hello\n",
       "2    3.0      c   None\n",
       "3    4.0      d  world"
      ]
     },
     "execution_count": 252,
     "metadata": {},
     "output_type": "execute_result"
    }
   ],
   "source": [
    "# drop rows with 2 or more missing values\n",
    "with_missing_values.dropna(axis=0, thresh=2)    # keeps rows with >= 2 non-empty values"
   ]
  },
  {
   "cell_type": "markdown",
   "metadata": {},
   "source": [
    "##### Impute/Substitute Data"
   ]
  },
  {
   "cell_type": "code",
   "execution_count": 253,
   "metadata": {},
   "outputs": [
    {
     "data": {
      "text/html": [
       "<div>\n",
       "<style scoped>\n",
       "    .dataframe tbody tr th:only-of-type {\n",
       "        vertical-align: middle;\n",
       "    }\n",
       "\n",
       "    .dataframe tbody tr th {\n",
       "        vertical-align: top;\n",
       "    }\n",
       "\n",
       "    .dataframe thead th {\n",
       "        text-align: right;\n",
       "    }\n",
       "</style>\n",
       "<table border=\"1\" class=\"dataframe\">\n",
       "  <thead>\n",
       "    <tr style=\"text-align: right;\">\n",
       "      <th></th>\n",
       "      <th>first</th>\n",
       "      <th>second</th>\n",
       "      <th>third</th>\n",
       "    </tr>\n",
       "  </thead>\n",
       "  <tbody>\n",
       "    <tr>\n",
       "      <th>0</th>\n",
       "      <td>1.000000</td>\n",
       "      <td>a</td>\n",
       "      <td>hello</td>\n",
       "    </tr>\n",
       "    <tr>\n",
       "      <th>1</th>\n",
       "      <td>2.666667</td>\n",
       "      <td>b</td>\n",
       "      <td>None</td>\n",
       "    </tr>\n",
       "    <tr>\n",
       "      <th>2</th>\n",
       "      <td>3.000000</td>\n",
       "      <td>c</td>\n",
       "      <td>None</td>\n",
       "    </tr>\n",
       "    <tr>\n",
       "      <th>3</th>\n",
       "      <td>4.000000</td>\n",
       "      <td>d</td>\n",
       "      <td>world</td>\n",
       "    </tr>\n",
       "  </tbody>\n",
       "</table>\n",
       "</div>"
      ],
      "text/plain": [
       "      first second  third\n",
       "0  1.000000      a  hello\n",
       "1  2.666667      b   None\n",
       "2  3.000000      c   None\n",
       "3  4.000000      d  world"
      ]
     },
     "execution_count": 253,
     "metadata": {},
     "output_type": "execute_result"
    }
   ],
   "source": [
    "first_col_mean = with_missing_values['first'].mean()\n",
    "with_missing_values['first'].fillna(value=first_col_mean, inplace=True)\n",
    "with_missing_values"
   ]
  },
  {
   "cell_type": "code",
   "execution_count": 254,
   "metadata": {},
   "outputs": [
    {
     "data": {
      "text/html": [
       "<div>\n",
       "<style scoped>\n",
       "    .dataframe tbody tr th:only-of-type {\n",
       "        vertical-align: middle;\n",
       "    }\n",
       "\n",
       "    .dataframe tbody tr th {\n",
       "        vertical-align: top;\n",
       "    }\n",
       "\n",
       "    .dataframe thead th {\n",
       "        text-align: right;\n",
       "    }\n",
       "</style>\n",
       "<table border=\"1\" class=\"dataframe\">\n",
       "  <thead>\n",
       "    <tr style=\"text-align: right;\">\n",
       "      <th></th>\n",
       "      <th>first</th>\n",
       "      <th>second</th>\n",
       "      <th>third</th>\n",
       "    </tr>\n",
       "  </thead>\n",
       "  <tbody>\n",
       "    <tr>\n",
       "      <th>0</th>\n",
       "      <td>1.000000</td>\n",
       "      <td>a</td>\n",
       "      <td>hello</td>\n",
       "    </tr>\n",
       "    <tr>\n",
       "      <th>1</th>\n",
       "      <td>2.666667</td>\n",
       "      <td>b</td>\n",
       "      <td>IMPUTED</td>\n",
       "    </tr>\n",
       "    <tr>\n",
       "      <th>2</th>\n",
       "      <td>3.000000</td>\n",
       "      <td>c</td>\n",
       "      <td>IMPUTED</td>\n",
       "    </tr>\n",
       "    <tr>\n",
       "      <th>3</th>\n",
       "      <td>4.000000</td>\n",
       "      <td>d</td>\n",
       "      <td>world</td>\n",
       "    </tr>\n",
       "  </tbody>\n",
       "</table>\n",
       "</div>"
      ],
      "text/plain": [
       "      first second    third\n",
       "0  1.000000      a    hello\n",
       "1  2.666667      b  IMPUTED\n",
       "2  3.000000      c  IMPUTED\n",
       "3  4.000000      d    world"
      ]
     },
     "execution_count": 254,
     "metadata": {},
     "output_type": "execute_result"
    }
   ],
   "source": [
    "with_missing_values['third'].fillna(value='IMPUTED', inplace=True)\n",
    "with_missing_values"
   ]
  },
  {
   "cell_type": "markdown",
   "metadata": {},
   "source": [
    "## Summarizing Data"
   ]
  },
  {
   "cell_type": "code",
   "execution_count": 255,
   "metadata": {},
   "outputs": [
    {
     "name": "stdout",
     "output_type": "stream",
     "text": [
      "7\n",
      "3\n",
      "the krusty krab     3\n",
      "none                3\n",
      " the chum bucket    1\n",
      "Name: employer, dtype: int64\n"
     ]
    },
    {
     "data": {
      "text/html": [
       "<div>\n",
       "<style scoped>\n",
       "    .dataframe tbody tr th:only-of-type {\n",
       "        vertical-align: middle;\n",
       "    }\n",
       "\n",
       "    .dataframe tbody tr th {\n",
       "        vertical-align: top;\n",
       "    }\n",
       "\n",
       "    .dataframe thead th {\n",
       "        text-align: right;\n",
       "    }\n",
       "</style>\n",
       "<table border=\"1\" class=\"dataframe\">\n",
       "  <thead>\n",
       "    <tr style=\"text-align: right;\">\n",
       "      <th></th>\n",
       "      <th>age</th>\n",
       "      <th>salary_usd</th>\n",
       "    </tr>\n",
       "  </thead>\n",
       "  <tbody>\n",
       "    <tr>\n",
       "      <th>count</th>\n",
       "      <td>7.000000</td>\n",
       "      <td>7.000000</td>\n",
       "    </tr>\n",
       "    <tr>\n",
       "      <th>mean</th>\n",
       "      <td>29.142857</td>\n",
       "      <td>32286.000000</td>\n",
       "    </tr>\n",
       "    <tr>\n",
       "      <th>std</th>\n",
       "      <td>10.367072</td>\n",
       "      <td>37827.017311</td>\n",
       "    </tr>\n",
       "    <tr>\n",
       "      <th>min</th>\n",
       "      <td>19.000000</td>\n",
       "      <td>0.000000</td>\n",
       "    </tr>\n",
       "    <tr>\n",
       "      <th>25%</th>\n",
       "      <td>21.500000</td>\n",
       "      <td>6001.000000</td>\n",
       "    </tr>\n",
       "    <tr>\n",
       "      <th>50%</th>\n",
       "      <td>25.000000</td>\n",
       "      <td>12000.000000</td>\n",
       "    </tr>\n",
       "    <tr>\n",
       "      <th>75%</th>\n",
       "      <td>36.000000</td>\n",
       "      <td>51000.000000</td>\n",
       "    </tr>\n",
       "    <tr>\n",
       "      <th>max</th>\n",
       "      <td>45.000000</td>\n",
       "      <td>100000.000000</td>\n",
       "    </tr>\n",
       "  </tbody>\n",
       "</table>\n",
       "</div>"
      ],
      "text/plain": [
       "             age     salary_usd\n",
       "count   7.000000       7.000000\n",
       "mean   29.142857   32286.000000\n",
       "std    10.367072   37827.017311\n",
       "min    19.000000       0.000000\n",
       "25%    21.500000    6001.000000\n",
       "50%    25.000000   12000.000000\n",
       "75%    36.000000   51000.000000\n",
       "max    45.000000  100000.000000"
      ]
     },
     "execution_count": 255,
     "metadata": {},
     "output_type": "execute_result"
    }
   ],
   "source": [
    "print(len(data))                    # number of rows in dataframe\n",
    "print(data['employer'].nunique())   # number of unique values in column\n",
    "print(data['employer'].value_counts())  # tally of the unique values\n",
    "data.describe()\n"
   ]
  },
  {
   "cell_type": "markdown",
   "metadata": {},
   "source": [
    "Additional summary functions are available. They operate on different types (DataFrame, Series, etc) and return a single value for each group.\n",
    "\n",
    "When applied to a DataFrame, these functions return a Series containing the \n"
   ]
  },
  {
   "cell_type": "code",
   "execution_count": 256,
   "metadata": {},
   "outputs": [
    {
     "name": "stdout",
     "output_type": "stream",
     "text": [
      "29.142857142857142\n",
      "25.0\n",
      "19\n",
      "45\n",
      "204\n",
      "107.47619047619048\n",
      "10.367072415884365\n",
      "0.25    21.5\n",
      "0.75    36.0\n",
      "Name: age, dtype: float64\n"
     ]
    }
   ],
   "source": [
    "copy = data.copy(deep=True)\n",
    "ages = copy.age\n",
    "\n",
    "print(ages.mean())      # column mean\n",
    "print(ages.median())    # column median\n",
    "print(ages.min())       # minimum\n",
    "print(ages.max())       # maximum\n",
    "print(ages.sum())       # column sum\n",
    "print(ages.var())       # variance\n",
    "print(ages.std())       # standard deviation\n",
    "print(ages.quantile([0.25, 0.75]))  \n"
   ]
  },
  {
   "cell_type": "markdown",
   "metadata": {},
   "source": [
    "## Grouping Data and Aggregate Functions\n",
    "\n",
    "Aggregate Functions: In this context, functions that take a series of values and returns a summary. Examples of aggregate functions are:\n",
    "* `sum()`\n",
    "* `mean()`\n",
    "\n",
    "They are commonly used in conjunction with grouped data represented by `DataFrameGroupBy` or `SeriesGroupBy` instances.\n",
    "\n",
    "Helpful Resources:\n",
    "* https://pbpython.com/groupby-agg.html"
   ]
  },
  {
   "cell_type": "code",
   "execution_count": 257,
   "metadata": {},
   "outputs": [
    {
     "data": {
      "text/plain": [
       "amin         0.000000\n",
       "amax    100000.000000\n",
       "mean     32286.000000\n",
       "std      37827.017311\n",
       "Name: salary_usd, dtype: float64"
      ]
     },
     "execution_count": 257,
     "metadata": {},
     "output_type": "execute_result"
    }
   ],
   "source": [
    "# Apply aggregate function on dataframe\n",
    "data.salary_usd.agg([np.min, np.max, np.mean, np.std])"
   ]
  },
  {
   "cell_type": "code",
   "execution_count": 258,
   "metadata": {},
   "outputs": [
    {
     "data": {
      "text/html": [
       "<div>\n",
       "<style scoped>\n",
       "    .dataframe tbody tr th:only-of-type {\n",
       "        vertical-align: middle;\n",
       "    }\n",
       "\n",
       "    .dataframe tbody tr th {\n",
       "        vertical-align: top;\n",
       "    }\n",
       "\n",
       "    .dataframe thead tr th {\n",
       "        text-align: left;\n",
       "    }\n",
       "\n",
       "    .dataframe thead tr:last-of-type th {\n",
       "        text-align: right;\n",
       "    }\n",
       "</style>\n",
       "<table border=\"1\" class=\"dataframe\">\n",
       "  <thead>\n",
       "    <tr>\n",
       "      <th></th>\n",
       "      <th>age</th>\n",
       "      <th colspan=\"2\" halign=\"left\">salary_usd</th>\n",
       "    </tr>\n",
       "    <tr>\n",
       "      <th></th>\n",
       "      <th>mean</th>\n",
       "      <th>mean</th>\n",
       "      <th>count</th>\n",
       "    </tr>\n",
       "    <tr>\n",
       "      <th>employer</th>\n",
       "      <th></th>\n",
       "      <th></th>\n",
       "      <th></th>\n",
       "    </tr>\n",
       "  </thead>\n",
       "  <tbody>\n",
       "    <tr>\n",
       "      <th>the chum bucket</th>\n",
       "      <td>45.000000</td>\n",
       "      <td>2.000000</td>\n",
       "      <td>1</td>\n",
       "    </tr>\n",
       "    <tr>\n",
       "      <th>none</th>\n",
       "      <td>26.666667</td>\n",
       "      <td>34000.000000</td>\n",
       "      <td>3</td>\n",
       "    </tr>\n",
       "    <tr>\n",
       "      <th>the krusty krab</th>\n",
       "      <td>26.333333</td>\n",
       "      <td>41333.333333</td>\n",
       "      <td>3</td>\n",
       "    </tr>\n",
       "  </tbody>\n",
       "</table>\n",
       "</div>"
      ],
      "text/plain": [
       "                        age    salary_usd      \n",
       "                       mean          mean count\n",
       "employer                                       \n",
       " the chum bucket  45.000000      2.000000     1\n",
       "none              26.666667  34000.000000     3\n",
       "the krusty krab   26.333333  41333.333333     3"
      ]
     },
     "execution_count": 258,
     "metadata": {},
     "output_type": "execute_result"
    }
   ],
   "source": [
    "# Group records based on employer then apply aggregate function\n",
    "kk_employees = data.groupby(by='employer')      # by default this will include all numeric columns\n",
    "\n",
    "kk_employees.agg({\n",
    "    'age': 'mean',\n",
    "    'salary_usd': ['mean', 'count']     # 'count' will not include NaN  values, 'size' will\n",
    "})"
   ]
  },
  {
   "cell_type": "markdown",
   "metadata": {},
   "source": [
    "## Joining Data"
   ]
  },
  {
   "cell_type": "code",
   "execution_count": 259,
   "metadata": {},
   "outputs": [
    {
     "name": "stdout",
     "output_type": "stream",
     "text": [
      "  col cola\n",
      "a   1   aa\n",
      "b   2   bb\n",
      "c   3   cc\n",
      "  col   colb\n",
      "a   1   True\n",
      "c   3  False\n",
      "d   4   True\n"
     ]
    }
   ],
   "source": [
    "# Prepare 2 dataframes for join operations\n",
    "data_a = pd.DataFrame({\n",
    "    'col': ['1','2','3'],\n",
    "    'cola': ['aa', 'bb', 'cc']\n",
    "}, index=['a', 'b' , 'c'])\n",
    "print(data_a)\n",
    "\n",
    "data_b = pd.DataFrame({\n",
    "    'col': ['1','3','4'],\n",
    "    'colb': [True, False, True]\n",
    "}, index=['a', 'c', 'd'])\n",
    "data_b\n",
    "print(data_b)\n"
   ]
  },
  {
   "cell_type": "markdown",
   "metadata": {},
   "source": [
    "### Inner Join"
   ]
  },
  {
   "cell_type": "code",
   "execution_count": 260,
   "metadata": {},
   "outputs": [
    {
     "data": {
      "text/html": [
       "<div>\n",
       "<style scoped>\n",
       "    .dataframe tbody tr th:only-of-type {\n",
       "        vertical-align: middle;\n",
       "    }\n",
       "\n",
       "    .dataframe tbody tr th {\n",
       "        vertical-align: top;\n",
       "    }\n",
       "\n",
       "    .dataframe thead th {\n",
       "        text-align: right;\n",
       "    }\n",
       "</style>\n",
       "<table border=\"1\" class=\"dataframe\">\n",
       "  <thead>\n",
       "    <tr style=\"text-align: right;\">\n",
       "      <th></th>\n",
       "      <th>col_x</th>\n",
       "      <th>cola</th>\n",
       "      <th>col_y</th>\n",
       "      <th>colb</th>\n",
       "    </tr>\n",
       "  </thead>\n",
       "  <tbody>\n",
       "    <tr>\n",
       "      <th>a</th>\n",
       "      <td>1</td>\n",
       "      <td>aa</td>\n",
       "      <td>1</td>\n",
       "      <td>True</td>\n",
       "    </tr>\n",
       "    <tr>\n",
       "      <th>c</th>\n",
       "      <td>3</td>\n",
       "      <td>cc</td>\n",
       "      <td>3</td>\n",
       "      <td>False</td>\n",
       "    </tr>\n",
       "  </tbody>\n",
       "</table>\n",
       "</div>"
      ],
      "text/plain": [
       "  col_x cola col_y   colb\n",
       "a     1   aa     1   True\n",
       "c     3   cc     3  False"
      ]
     },
     "execution_count": 260,
     "metadata": {},
     "output_type": "execute_result"
    }
   ],
   "source": [
    "# Inner Join (based on index values)\n",
    "pd.merge(data_a, data_b, left_index=True, right_index=True)"
   ]
  },
  {
   "cell_type": "code",
   "execution_count": 261,
   "metadata": {},
   "outputs": [
    {
     "data": {
      "text/html": [
       "<div>\n",
       "<style scoped>\n",
       "    .dataframe tbody tr th:only-of-type {\n",
       "        vertical-align: middle;\n",
       "    }\n",
       "\n",
       "    .dataframe tbody tr th {\n",
       "        vertical-align: top;\n",
       "    }\n",
       "\n",
       "    .dataframe thead th {\n",
       "        text-align: right;\n",
       "    }\n",
       "</style>\n",
       "<table border=\"1\" class=\"dataframe\">\n",
       "  <thead>\n",
       "    <tr style=\"text-align: right;\">\n",
       "      <th></th>\n",
       "      <th>col</th>\n",
       "      <th>cola</th>\n",
       "      <th>colb</th>\n",
       "    </tr>\n",
       "  </thead>\n",
       "  <tbody>\n",
       "    <tr>\n",
       "      <th>0</th>\n",
       "      <td>1</td>\n",
       "      <td>aa</td>\n",
       "      <td>True</td>\n",
       "    </tr>\n",
       "    <tr>\n",
       "      <th>1</th>\n",
       "      <td>3</td>\n",
       "      <td>cc</td>\n",
       "      <td>False</td>\n",
       "    </tr>\n",
       "  </tbody>\n",
       "</table>\n",
       "</div>"
      ],
      "text/plain": [
       "  col cola   colb\n",
       "0   1   aa   True\n",
       "1   3   cc  False"
      ]
     },
     "execution_count": 261,
     "metadata": {},
     "output_type": "execute_result"
    }
   ],
   "source": [
    "# Inner Join (based on column value)\n",
    "pd.merge(data_a, data_b, how='inner', on='col')"
   ]
  },
  {
   "cell_type": "markdown",
   "metadata": {},
   "source": [
    "### Left Join"
   ]
  },
  {
   "cell_type": "code",
   "execution_count": 262,
   "metadata": {},
   "outputs": [
    {
     "data": {
      "text/html": [
       "<div>\n",
       "<style scoped>\n",
       "    .dataframe tbody tr th:only-of-type {\n",
       "        vertical-align: middle;\n",
       "    }\n",
       "\n",
       "    .dataframe tbody tr th {\n",
       "        vertical-align: top;\n",
       "    }\n",
       "\n",
       "    .dataframe thead th {\n",
       "        text-align: right;\n",
       "    }\n",
       "</style>\n",
       "<table border=\"1\" class=\"dataframe\">\n",
       "  <thead>\n",
       "    <tr style=\"text-align: right;\">\n",
       "      <th></th>\n",
       "      <th>col_x</th>\n",
       "      <th>cola</th>\n",
       "      <th>col_y</th>\n",
       "      <th>colb</th>\n",
       "    </tr>\n",
       "  </thead>\n",
       "  <tbody>\n",
       "    <tr>\n",
       "      <th>a</th>\n",
       "      <td>1</td>\n",
       "      <td>aa</td>\n",
       "      <td>1</td>\n",
       "      <td>True</td>\n",
       "    </tr>\n",
       "    <tr>\n",
       "      <th>b</th>\n",
       "      <td>2</td>\n",
       "      <td>bb</td>\n",
       "      <td>NaN</td>\n",
       "      <td>NaN</td>\n",
       "    </tr>\n",
       "    <tr>\n",
       "      <th>c</th>\n",
       "      <td>3</td>\n",
       "      <td>cc</td>\n",
       "      <td>3</td>\n",
       "      <td>False</td>\n",
       "    </tr>\n",
       "  </tbody>\n",
       "</table>\n",
       "</div>"
      ],
      "text/plain": [
       "  col_x cola col_y   colb\n",
       "a     1   aa     1   True\n",
       "b     2   bb   NaN    NaN\n",
       "c     3   cc     3  False"
      ]
     },
     "execution_count": 262,
     "metadata": {},
     "output_type": "execute_result"
    }
   ],
   "source": [
    "# Left Join (based on index)\n",
    "pd.merge(data_a, data_b, how='left', left_index=True, right_index=True)"
   ]
  },
  {
   "cell_type": "code",
   "execution_count": 263,
   "metadata": {},
   "outputs": [
    {
     "data": {
      "text/html": [
       "<div>\n",
       "<style scoped>\n",
       "    .dataframe tbody tr th:only-of-type {\n",
       "        vertical-align: middle;\n",
       "    }\n",
       "\n",
       "    .dataframe tbody tr th {\n",
       "        vertical-align: top;\n",
       "    }\n",
       "\n",
       "    .dataframe thead th {\n",
       "        text-align: right;\n",
       "    }\n",
       "</style>\n",
       "<table border=\"1\" class=\"dataframe\">\n",
       "  <thead>\n",
       "    <tr style=\"text-align: right;\">\n",
       "      <th></th>\n",
       "      <th>col</th>\n",
       "      <th>cola</th>\n",
       "      <th>colb</th>\n",
       "    </tr>\n",
       "  </thead>\n",
       "  <tbody>\n",
       "    <tr>\n",
       "      <th>0</th>\n",
       "      <td>1</td>\n",
       "      <td>aa</td>\n",
       "      <td>True</td>\n",
       "    </tr>\n",
       "    <tr>\n",
       "      <th>1</th>\n",
       "      <td>2</td>\n",
       "      <td>bb</td>\n",
       "      <td>NaN</td>\n",
       "    </tr>\n",
       "    <tr>\n",
       "      <th>2</th>\n",
       "      <td>3</td>\n",
       "      <td>cc</td>\n",
       "      <td>False</td>\n",
       "    </tr>\n",
       "  </tbody>\n",
       "</table>\n",
       "</div>"
      ],
      "text/plain": [
       "  col cola   colb\n",
       "0   1   aa   True\n",
       "1   2   bb    NaN\n",
       "2   3   cc  False"
      ]
     },
     "execution_count": 263,
     "metadata": {},
     "output_type": "execute_result"
    }
   ],
   "source": [
    "# Left Join (based on column)\n",
    "pd.merge(data_a, data_b, how='left', on='col')"
   ]
  },
  {
   "cell_type": "markdown",
   "metadata": {},
   "source": [
    "### Right and Outer Join\n",
    "\n",
    "Right and Outer Join examples are omitted as they function the same as the `Left Join` examples above except with `how='right'` and `how='outer'` used instead, respectively\n"
   ]
  }
 ],
 "metadata": {
  "kernelspec": {
   "display_name": "tensorflow-env",
   "language": "python",
   "name": "python3"
  },
  "language_info": {
   "codemirror_mode": {
    "name": "ipython",
    "version": 3
   },
   "file_extension": ".py",
   "mimetype": "text/x-python",
   "name": "python",
   "nbconvert_exporter": "python",
   "pygments_lexer": "ipython3",
   "version": "3.6.13"
  }
 },
 "nbformat": 4,
 "nbformat_minor": 2
}
