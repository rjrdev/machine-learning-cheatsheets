{
 "cells": [
  {
   "cell_type": "markdown",
   "metadata": {},
   "source": [
    "# `matplotlib` and `seaborn` Cheatsheet\n",
    "---"
   ]
  },
  {
   "cell_type": "markdown",
   "metadata": {},
   "source": [
    "## `matplotlib`"
   ]
  },
  {
   "cell_type": "markdown",
   "metadata": {},
   "source": [
    "### What is `matplotlib`?\n",
    "\n",
    "A library for creating static, animated, and interactive visualizations in Python. Library is based off of `MATLAB` and therefore resembles the `MATLAB` interface. Specifcally the `pyplot` module of `matplotlib` is designed to be as usable as `MATLAB.`"
   ]
  },
  {
   "cell_type": "code",
   "execution_count": 37,
   "metadata": {},
   "outputs": [],
   "source": [
    "### Importing `matplotlib`"
   ]
  },
  {
   "cell_type": "code",
   "execution_count": 38,
   "metadata": {},
   "outputs": [],
   "source": [
    "# Import dependencies\n",
    "\n",
    "import numpy as np\n",
    "import pandas as pd\n",
    "\n",
    "import matplotlib.pyplot as plt"
   ]
  },
  {
   "cell_type": "markdown",
   "metadata": {},
   "source": [
    "### Scatter Plots\n",
    "\n",
    "* Displays 2-dimensional data with each dot plotted representing a single observation\n",
    "* Useful in helping to visually understand if there is some sort of relationship between 2 variables"
   ]
  },
  {
   "cell_type": "code",
   "execution_count": 39,
   "metadata": {},
   "outputs": [
    {
     "data": {
      "text/html": [
       "<div>\n",
       "<style scoped>\n",
       "    .dataframe tbody tr th:only-of-type {\n",
       "        vertical-align: middle;\n",
       "    }\n",
       "\n",
       "    .dataframe tbody tr th {\n",
       "        vertical-align: top;\n",
       "    }\n",
       "\n",
       "    .dataframe thead th {\n",
       "        text-align: right;\n",
       "    }\n",
       "</style>\n",
       "<table border=\"1\" class=\"dataframe\">\n",
       "  <thead>\n",
       "    <tr style=\"text-align: right;\">\n",
       "      <th></th>\n",
       "      <th>x</th>\n",
       "      <th>y</th>\n",
       "    </tr>\n",
       "  </thead>\n",
       "  <tbody>\n",
       "    <tr>\n",
       "      <th>0</th>\n",
       "      <td>0.517561</td>\n",
       "      <td>0.445128</td>\n",
       "    </tr>\n",
       "    <tr>\n",
       "      <th>1</th>\n",
       "      <td>0.608229</td>\n",
       "      <td>0.478116</td>\n",
       "    </tr>\n",
       "    <tr>\n",
       "      <th>2</th>\n",
       "      <td>0.614861</td>\n",
       "      <td>0.524847</td>\n",
       "    </tr>\n",
       "    <tr>\n",
       "      <th>3</th>\n",
       "      <td>0.289987</td>\n",
       "      <td>0.619808</td>\n",
       "    </tr>\n",
       "    <tr>\n",
       "      <th>4</th>\n",
       "      <td>0.069878</td>\n",
       "      <td>0.322601</td>\n",
       "    </tr>\n",
       "    <tr>\n",
       "      <th>5</th>\n",
       "      <td>0.568583</td>\n",
       "      <td>0.634509</td>\n",
       "    </tr>\n",
       "    <tr>\n",
       "      <th>6</th>\n",
       "      <td>0.207000</td>\n",
       "      <td>0.230294</td>\n",
       "    </tr>\n",
       "    <tr>\n",
       "      <th>7</th>\n",
       "      <td>0.671155</td>\n",
       "      <td>0.691172</td>\n",
       "    </tr>\n",
       "    <tr>\n",
       "      <th>8</th>\n",
       "      <td>0.449880</td>\n",
       "      <td>0.777833</td>\n",
       "    </tr>\n",
       "    <tr>\n",
       "      <th>9</th>\n",
       "      <td>0.175162</td>\n",
       "      <td>0.715175</td>\n",
       "    </tr>\n",
       "    <tr>\n",
       "      <th>10</th>\n",
       "      <td>0.510843</td>\n",
       "      <td>0.490435</td>\n",
       "    </tr>\n",
       "    <tr>\n",
       "      <th>11</th>\n",
       "      <td>0.942923</td>\n",
       "      <td>0.843656</td>\n",
       "    </tr>\n",
       "    <tr>\n",
       "      <th>12</th>\n",
       "      <td>0.352106</td>\n",
       "      <td>0.556571</td>\n",
       "    </tr>\n",
       "    <tr>\n",
       "      <th>13</th>\n",
       "      <td>0.018745</td>\n",
       "      <td>0.159432</td>\n",
       "    </tr>\n",
       "    <tr>\n",
       "      <th>14</th>\n",
       "      <td>0.047936</td>\n",
       "      <td>0.240876</td>\n",
       "    </tr>\n",
       "  </tbody>\n",
       "</table>\n",
       "</div>"
      ],
      "text/plain": [
       "           x         y\n",
       "0   0.517561  0.445128\n",
       "1   0.608229  0.478116\n",
       "2   0.614861  0.524847\n",
       "3   0.289987  0.619808\n",
       "4   0.069878  0.322601\n",
       "5   0.568583  0.634509\n",
       "6   0.207000  0.230294\n",
       "7   0.671155  0.691172\n",
       "8   0.449880  0.777833\n",
       "9   0.175162  0.715175\n",
       "10  0.510843  0.490435\n",
       "11  0.942923  0.843656\n",
       "12  0.352106  0.556571\n",
       "13  0.018745  0.159432\n",
       "14  0.047936  0.240876"
      ]
     },
     "execution_count": 39,
     "metadata": {},
     "output_type": "execute_result"
    }
   ],
   "source": [
    "data = pd.DataFrame(np.random.rand(15,2), columns=['x','y'])\n",
    "data"
   ]
  },
  {
   "cell_type": "code",
   "execution_count": 40,
   "metadata": {},
   "outputs": [
    {
     "data": {
      "image/png": "[encoded data removed]",
      "text/plain": [
       "<Figure size 432x288 with 1 Axes>"
      ]
     },
     "metadata": {
      "needs_background": "light"
     },
     "output_type": "display_data"
    }
   ],
   "source": [
    "x = data['x'].to_list()\n",
    "y = data['y'].to_list()\n",
    "plt.plot(x, y, linestyle='none', marker='o', color='b')\n",
    "plt.show()"
   ]
  },
  {
   "cell_type": "markdown",
   "metadata": {},
   "source": [
    "### Line Plot\n"
   ]
  },
  {
   "cell_type": "code",
   "execution_count": 41,
   "metadata": {},
   "outputs": [
    {
     "name": "stdout",
     "output_type": "stream",
     "text": [
      "   x   y\n",
      "0  0  86\n",
      "1  1  86\n",
      "2  2  89\n",
      "3  3  10\n",
      "4  4  85\n",
      "5  5   8\n",
      "6  6  91\n",
      "7  7  10\n",
      "8  8  45\n",
      "9  9  18\n"
     ]
    },
    {
     "data": {
      "image/png": "[encoded data removed]",
      "text/plain": [
       "<Figure size 432x288 with 1 Axes>"
      ]
     },
     "metadata": {
      "needs_background": "light"
     },
     "output_type": "display_data"
    }
   ],
   "source": [
    "\n",
    "x =np.arange(0,10,1)\n",
    "y = np.random.randint(0, 100, 10)\n",
    "\n",
    "data = pd.DataFrame({\n",
    "    'x': x,\n",
    "    'y': y\n",
    "})\n",
    "print(data)\n",
    "\n",
    "plt.plot(x, y, linestyle='solid', marker='x', color='b')\n",
    "plt.show()"
   ]
  },
  {
   "cell_type": "markdown",
   "metadata": {},
   "source": [
    "### Histogram\n",
    "\n",
    "* Visualized the frequency (number of occurences) of different values in the dataset"
   ]
  },
  {
   "cell_type": "code",
   "execution_count": 42,
   "metadata": {},
   "outputs": [
    {
     "data": {
      "text/plain": [
       "[]"
      ]
     },
     "execution_count": 42,
     "metadata": {},
     "output_type": "execute_result"
    },
    {
     "data": {
      "image/png": "[encoded data removed]",
      "text/plain": [
       "<Figure size 432x288 with 1 Axes>"
      ]
     },
     "metadata": {
      "needs_background": "light"
     },
     "output_type": "display_data"
    }
   ],
   "source": [
    "data = np.random.randint(0,10,100)\n",
    "plt.hist(data, 10)\n",
    "plt.xlabel('Value')\n",
    "plt.ylabel('Frequency')\n",
    "plt.title('Example Histogram')\n",
    "plt.plot()"
   ]
  },
  {
   "cell_type": "markdown",
   "metadata": {},
   "source": [
    "### Bar Plot\n",
    "\n",
    "* Similiar to Histograms but it used for categorical data\n"
   ]
  },
  {
   "cell_type": "code",
   "execution_count": 43,
   "metadata": {},
   "outputs": [
    {
     "name": "stdout",
     "output_type": "stream",
     "text": [
      "[['primate' 4]\n",
      " ['fish' 3]\n",
      " ['bird' 2]\n",
      " ['snake' 1]\n",
      " ['lion' 1]\n",
      " ['elephant' 1]]\n"
     ]
    },
    {
     "data": {
      "text/plain": [
       "[]"
      ]
     },
     "execution_count": 43,
     "metadata": {},
     "output_type": "execute_result"
    },
    {
     "data": {
      "image/png": "[encoded data removed]",
      "text/plain": [
       "<Figure size 432x288 with 1 Axes>"
      ]
     },
     "metadata": {
      "needs_background": "light"
     },
     "output_type": "display_data"
    }
   ],
   "source": [
    "\n",
    "data = pd.DataFrame({\n",
    "    'animals': [\n",
    "        'bird', 'snake', 'bird', 'lion', 'fish', 'fish', 'fish', 'elephant', 'primate', 'primate', 'primate', 'primate'\n",
    "    ]\n",
    "})\n",
    "\n",
    "counts = data.value_counts().reset_index()\n",
    "print(counts.values)\n",
    "x = counts.values[:,0]\n",
    "y = counts.values[:,1]\n",
    "\n",
    "plt.bar(x=x, height=y)\n",
    "plt.title('Animal Counts')\n",
    "plt.xlabel('Animals')\n",
    "plt.ylabel('Count')\n",
    "plt.xticks(rotation=90)\n",
    "plt.plot()"
   ]
  },
  {
   "cell_type": "markdown",
   "metadata": {},
   "source": [
    "Use `barh()` instead of `bar()` to create a horizontal chart"
   ]
  },
  {
   "cell_type": "code",
   "execution_count": 44,
   "metadata": {},
   "outputs": [
    {
     "data": {
      "text/plain": [
       "[]"
      ]
     },
     "execution_count": 44,
     "metadata": {},
     "output_type": "execute_result"
    },
    {
     "data": {
      "image/png": "[encoded data removed]",
      "text/plain": [
       "<Figure size 432x288 with 1 Axes>"
      ]
     },
     "metadata": {
      "needs_background": "light"
     },
     "output_type": "display_data"
    }
   ],
   "source": [
    "plt.barh(y=x, width=y)\n",
    "plt.title('Animal Counts')\n",
    "plt.xlabel('Animals')\n",
    "plt.ylabel('Count')\n",
    "plt.xticks(rotation=90)\n",
    "plt.plot()"
   ]
  },
  {
   "cell_type": "markdown",
   "metadata": {},
   "source": [
    "### Box Plot (with Whiskers)"
   ]
  },
  {
   "cell_type": "code",
   "execution_count": 45,
   "metadata": {},
   "outputs": [
    {
     "data": {
      "text/plain": [
       "[]"
      ]
     },
     "execution_count": 45,
     "metadata": {},
     "output_type": "execute_result"
    },
    {
     "data": {
      "image/png": "[encoded data removed]",
      "text/plain": [
       "<Figure size 1080x720 with 1 Axes>"
      ]
     },
     "metadata": {
      "needs_background": "light"
     },
     "output_type": "display_data"
    }
   ],
   "source": [
    "american_life_exp = np.random.randint(0,90,100)\n",
    "japanese_life_exp = np.random.randint(0, 100, 100)\n",
    "plt.figure(figsize=(15,10))\n",
    "plt.boxplot([american_life_exp, japanese_life_exp])\n",
    "plt.ylabel('Value')\n",
    "plt.xticks([1,2], ['American', 'Japanese'])\n",
    "plt.title('Life Expectancies by Country')\n",
    "plt.plot()"
   ]
  },
  {
   "cell_type": "markdown",
   "metadata": {},
   "source": [
    "### Area Plot\n"
   ]
  },
  {
   "cell_type": "markdown",
   "metadata": {},
   "source": [
    "#### Single Area Plot"
   ]
  },
  {
   "cell_type": "code",
   "execution_count": 85,
   "metadata": {},
   "outputs": [
    {
     "name": "stdout",
     "output_type": "stream",
     "text": [
      "[ 1  2  3  4  5  6  7  8  9 10 11 12]\n",
      "[2414 2337 2976 3088 2439 3056 3035 2952 2508 2320 3179 2893]\n",
      "[2700 2700 2700 2700 2700 2700 2700 2700 2700 2700 2700 2700]\n",
      "    month  rent  food  gas  other\n",
      "0       1  2700   581  444    233\n",
      "1       2  2700   630  466    397\n",
      "2       3  2700   420  531    522\n",
      "3       4  2700   493  747    401\n",
      "4       5  2700   518  564    394\n",
      "5       6  2700   688  647    542\n",
      "6       7  2700   670  534    526\n",
      "7       8  2700   462  676    457\n",
      "8       9  2700   418  451    177\n",
      "9      10  2700   466  619    357\n",
      "10     11  2700   640  475    374\n",
      "11     12  2700   400  461    137\n",
      "    month  rent  food  gas  other  total\n",
      "0       1  2700   581  444    233   3958\n",
      "1       2  2700   630  466    397   4193\n",
      "2       3  2700   420  531    522   4173\n",
      "3       4  2700   493  747    401   4341\n",
      "4       5  2700   518  564    394   4176\n",
      "5       6  2700   688  647    542   4577\n",
      "6       7  2700   670  534    526   4430\n",
      "7       8  2700   462  676    457   4295\n",
      "8       9  2700   418  451    177   3746\n",
      "9      10  2700   466  619    357   4142\n",
      "10     11  2700   640  475    374   4189\n",
      "11     12  2700   400  461    137   3698\n"
     ]
    },
    {
     "data": {
      "text/plain": [
       "[]"
      ]
     },
     "execution_count": 85,
     "metadata": {},
     "output_type": "execute_result"
    },
    {
     "data": {
      "image/png": "[encoded data removed]",
      "text/plain": [
       "<Figure size 432x288 with 1 Axes>"
      ]
     },
     "metadata": {
      "needs_background": "light"
     },
     "output_type": "display_data"
    }
   ],
   "source": [
    "\n",
    "print(np.arange(1,13, 1))\n",
    "print(np.random.randint(2300,3300, 12))\n",
    "print(np.full((12), fill_value=2700))\n",
    "total_expenses = pd.DataFrame({\n",
    "    'month': np.arange(1,13, 1),\n",
    "    'rent': np.full(12, fill_value=2700),\n",
    "    'food': np.random.randint(400,700, 12),\n",
    "    'gas': np.random.randint(400,800, 12),\n",
    "    'other': np.random.randint(100,600, 12)\n",
    "})\n",
    "print(total_expenses)\n",
    "total_expenses['total'] = total_expenses.rent + total_expenses.food + total_expenses.gas + total_expenses.other\n",
    "print(total_expenses)\n",
    "\n",
    "# plot total\n",
    "plt.fill_between(total_expenses.month, total_expenses.total)\n",
    "plt.xticks(rotation=45)\n",
    "plt.ylabel('Combined Total Expenses Per Month')\n",
    "plt.title('Combined Expenses')\n",
    "plt.plot()\n"
   ]
  },
  {
   "cell_type": "markdown",
   "metadata": {},
   "source": [
    "#### Stacked Area Plot"
   ]
  },
  {
   "cell_type": "code",
   "execution_count": 90,
   "metadata": {},
   "outputs": [
    {
     "data": {
      "image/png": "[encoded data removed]",
      "text/plain": [
       "<Figure size 432x288 with 1 Axes>"
      ]
     },
     "metadata": {
      "needs_background": "light"
     },
     "output_type": "display_data"
    }
   ],
   "source": [
    "# plt.stackplot(\n",
    "#     total_deaths_ww2.year, \n",
    "#     total_deaths_ww2.total, total_deaths_ww2.usa, total_deaths_ww2.germany, total_deaths_ww2.ussr,\n",
    "#     labels=total_deaths_ww2.keys()\n",
    "# )\n",
    "# plt.legend(loc='upper right')\n",
    "# plt.plot()\n",
    "total_deaths_ww2[['total', 'usa', 'germany', 'ussr']]\n",
    "\n",
    "x = [0, 1, 2, 3]\n",
    "y1 = [1, 2, 3, 4]\n",
    "y2 = [2, 3, 2, 1]\n",
    "y3 = [1, 1, 2, 2]\n",
    "\n",
    "plt.stackplot(total_expenses.month, \n",
    "              total_expenses.rent, total_expenses.food, total_expenses.gas, total_expenses.other, \n",
    "              labels=['Rent', 'Food', 'Gas', 'Other'])\n",
    "plt.legend(loc='upper left')\n",
    "plt.title('Total Montly Expenses')\n",
    "plt.ylabel('Total ($)')\n",
    "plt.xlabel('Month')\n",
    "plt.show()"
   ]
  },
  {
   "cell_type": "markdown",
   "metadata": {},
   "source": [
    "### Lollipop Chart\n",
    "\n",
    "TODO"
   ]
  },
  {
   "cell_type": "markdown",
   "metadata": {},
   "source": [
    "## `seaborn`"
   ]
  },
  {
   "cell_type": "markdown",
   "metadata": {},
   "source": [
    "## What is `seaborn`?\n",
    "\n",
    "A graphing library for Python that is built on top of `matplotlib` and integrates seamlessly with `pandas` data strucutures to provide a higher-level plotting library\n"
   ]
  },
  {
   "cell_type": "markdown",
   "metadata": {},
   "source": [
    "## TODO\n",
    "Create cheatsheet based off of documentation: https://seaborn.pydata.org/tutorial/function_overview.html"
   ]
  }
 ],
 "metadata": {
  "kernelspec": {
   "display_name": "tensorflow-env",
   "language": "python",
   "name": "python3"
  },
  "language_info": {
   "codemirror_mode": {
    "name": "ipython",
    "version": 3
   },
   "file_extension": ".py",
   "mimetype": "text/x-python",
   "name": "python",
   "nbconvert_exporter": "python",
   "pygments_lexer": "ipython3",
   "version": "3.6.13"
  }
 },
 "nbformat": 4,
 "nbformat_minor": 2
}
